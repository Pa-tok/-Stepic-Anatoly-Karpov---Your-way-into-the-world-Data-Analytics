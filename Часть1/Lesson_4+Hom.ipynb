{
 "cells": [
  {
   "cell_type": "code",
   "execution_count": 12,
   "outputs": [],
   "source": [
    "import pandas as pd\n",
    "import numpy as np\n",
    "import seaborn as sns\n",
    "import matplotlib.pyplot as plt"
   ],
   "metadata": {
    "collapsed": false,
    "pycharm": {
     "name": "#%%\n"
    }
   }
  },
  {
   "cell_type": "code",
   "execution_count": 13,
   "outputs": [],
   "source": [
    "# Вывод данных из csv во всю ширину окна\n",
    "pd.set_option('display.max_rows', 500)\n",
    "pd.set_option('display.max_columns', 500)\n",
    "pd.set_option('display.width', 1000)"
   ],
   "metadata": {
    "collapsed": false,
    "pycharm": {
     "name": "#%%\n"
    }
   }
  },
  {
   "cell_type": "markdown",
   "source": [
    "## Убираем индекс"
   ],
   "metadata": {
    "collapsed": false,
    "pycharm": {
     "name": "#%% md\n"
    }
   }
  },
  {
   "cell_type": "code",
   "execution_count": 143,
   "outputs": [
    {
     "data": {
      "text/plain": "  ID  value\n0  A     18\n1  B      6\n2  C      6",
      "text/html": "<div>\n<style scoped>\n    .dataframe tbody tr th:only-of-type {\n        vertical-align: middle;\n    }\n\n    .dataframe tbody tr th {\n        vertical-align: top;\n    }\n\n    .dataframe thead th {\n        text-align: right;\n    }\n</style>\n<table border=\"1\" class=\"dataframe\">\n  <thead>\n    <tr style=\"text-align: right;\">\n      <th></th>\n      <th>ID</th>\n      <th>value</th>\n    </tr>\n  </thead>\n  <tbody>\n    <tr>\n      <th>0</th>\n      <td>A</td>\n      <td>18</td>\n    </tr>\n    <tr>\n      <th>1</th>\n      <td>B</td>\n      <td>6</td>\n    </tr>\n    <tr>\n      <th>2</th>\n      <td>C</td>\n      <td>6</td>\n    </tr>\n  </tbody>\n</table>\n</div>"
     },
     "execution_count": 143,
     "metadata": {},
     "output_type": "execute_result"
    }
   ],
   "source": [
    "df0 = pd.DataFrame({\"ID\": [\"A\", \"B\", \"A\", \"C\", \"A\", \"A\", \"C\", \"B\"], \"value\": [1, 2, 4, 3, 6, 7, 3, 4]})\n",
    "df_group1 = df0.groupby(\"ID\").sum().reset_index()\n",
    "df_group1\n",
    "df_group2 = df0.groupby(\"ID\", as_index=False).sum()\n",
    "df_group2"
   ],
   "metadata": {
    "collapsed": false,
    "pycharm": {
     "name": "#%%\n"
    }
   }
  },
  {
   "cell_type": "markdown",
   "source": [
    "1) В переменной df находится датафрэйм. Ваша задача положить в переменную  df_shape строку с информацией сколько линий и столбцов он имеет в следующем виде:\n",
    "'df has y rows and x columns'\n",
    "где y – число строк, а x – число колонок."
   ],
   "metadata": {
    "collapsed": false,
    "pycharm": {
     "name": "#%% md\n"
    }
   }
  },
  {
   "cell_type": "code",
   "execution_count": 142,
   "outputs": [
    {
     "name": "stdout",
     "output_type": "stream",
     "text": [
      "  ID  value\n",
      "0  A      1\n",
      "1  B      2\n",
      "2  A      4\n",
      "3  C      3\n",
      "4  A      6\n",
      "5  A      7\n",
      "6  C      3\n",
      "7  B      4\n"
     ]
    }
   ],
   "source": [
    "df = pd.DataFrame({'a': [1, 2, 3], 'b': ['aaa', 'ccc', 'xxx']})  # Создадим таблицу\n",
    "df0 = pd.DataFrame({\"ID\": [\"A\", \"B\", \"A\", \"C\", \"A\", \"A\", \"C\", \"B\"], \"value\": [1, 2, 4, 3, 6, 7, 3, 4]})\n",
    "\n",
    "print(df0)\n",
    "\n",
    "# print('\\nВ датафрейме строк, столбцов:\\n',df.shape, '\\n') # Узнаём сколько строк и столбцов (3, 2)\n",
    "# print(df.dtypes, '\\n')"
   ],
   "metadata": {
    "collapsed": false,
    "pycharm": {
     "name": "#%%\n"
    }
   }
  },
  {
   "cell_type": "code",
   "execution_count": 26,
   "outputs": [
    {
     "name": "stdout",
     "output_type": "stream",
     "text": [
      "1-й вариант:\n",
      " df has х=3 rows and у=2 columns\n",
      " где y – число строк, а x – число колонок \n",
      "\n"
     ]
    }
   ],
   "source": [
    "# 1-й вариант\n",
    "template = 'df has х={} rows and у={} columns\\n где y – число строк, а x – число колонок'\n",
    "df_shape = template.format(df.shape[0], df.shape[1])\n",
    "print('1-й вариант:\\n',df_shape, '\\n')"
   ],
   "metadata": {
    "collapsed": false,
    "pycharm": {
     "name": "#%%\n"
    }
   }
  },
  {
   "cell_type": "code",
   "execution_count": 27,
   "outputs": [
    {
     "name": "stdout",
     "output_type": "stream",
     "text": [
      "2-й вариант (более удобный):\n",
      " df has х=3 rows and у=2 columns\n",
      " где y – число строк, а x – число колонок \n",
      "\n"
     ]
    }
   ],
   "source": [
    "# 2-й вариант (более удобный)\n",
    "df_shape = f'df has х={df.shape[0]} rows and у={df.shape[1]} columns\\n где y – число строк, а x – число колонок'\n",
    "print('2-й вариант (более удобный):\\n', df_shape, '\\n')"
   ],
   "metadata": {
    "collapsed": false,
    "pycharm": {
     "name": "#%%\n"
    }
   }
  },
  {
   "cell_type": "markdown",
   "source": [
    "2) Положите в переменную na_number серию, в которой для каждой колонки указано сколько ячеек содержат пропущенные значения. Например, для такого датафрэйма: task2_1.png (в папке)\n",
    "Ответ будет: task2_2.png (в папке)\n",
    "\n"
   ],
   "metadata": {
    "collapsed": false,
    "pycharm": {
     "name": "#%% md\n"
    }
   }
  },
  {
   "cell_type": "code",
   "execution_count": 34,
   "outputs": [
    {
     "name": "stdout",
     "output_type": "stream",
     "text": [
      "     a    b\n",
      "0  1.0  aaa\n",
      "1  NaN  NaN\n",
      "2  3.0  NaN\n",
      "       a      b\n",
      "0  False  False\n",
      "1   True   True\n",
      "2  False   True \n",
      "\n",
      "a    1\n",
      "b    2\n",
      "dtype: int64 \n",
      "\n"
     ]
    }
   ],
   "source": [
    "np.nan\n",
    "df2 = pd.DataFrame({'a': [1, None, 3], 'b': ['aaa', None, None]})  # Первый вариант\n",
    "df = pd.DataFrame({'a': [1, np.nan, 3], 'b': ['aaa', np.nan, np.nan]})  # Второй вариант - нет значений\n",
    "print(df)\n",
    "\n",
    "print(df.isna(), '\\n') # Проверка на пропущенные значения\n",
    "na_number = df.isna().sum() # для каждой колонки указано сколько ячеек содержат пропущенные значения\n",
    "print(na_number, '\\n')"
   ],
   "metadata": {
    "collapsed": false,
    "pycharm": {
     "name": "#%%\n"
    }
   }
  },
  {
   "cell_type": "markdown",
   "source": [
    "3) Сохраните в переменную df_types типы данных каждой колонки датафрэйма df."
   ],
   "metadata": {
    "collapsed": false,
    "pycharm": {
     "name": "#%% md\n"
    }
   }
  },
  {
   "cell_type": "code",
   "execution_count": 36,
   "outputs": [
    {
     "name": "stdout",
     "output_type": "stream",
     "text": [
      "a    float64\n",
      "b     object\n",
      "dtype: object \n",
      "\n"
     ]
    }
   ],
   "source": [
    "df_types = df.dtypes #типы данных\n",
    "print(df_types, '\\n')"
   ],
   "metadata": {
    "collapsed": false,
    "pycharm": {
     "name": "#%%\n"
    }
   }
  },
  {
   "cell_type": "markdown",
   "source": [
    "4) Внезапно оказалось, что в переменной age значения хранятся в виде строк! Поменяйте тип значений на целочисленный в этой колонке датафрэйма df."
   ],
   "metadata": {
    "collapsed": false,
    "pycharm": {
     "name": "#%% md\n"
    }
   }
  },
  {
   "cell_type": "code",
   "execution_count": 38,
   "outputs": [
    {
     "name": "stdout",
     "output_type": "stream",
     "text": [
      "a      float64\n",
      "age     object\n",
      "dtype: object \n",
      "\n",
      "a      float64\n",
      "age      int32\n",
      "dtype: object \n",
      "\n"
     ]
    }
   ],
   "source": [
    "df4 = pd.DataFrame({'a': [1, np.nan, 3], 'age': ['15', '33', '10']})  # Создадим таблицу\n",
    "print(df4.dtypes, '\\n')\n",
    "df4 =df4.astype({'age': int}) #Поменяйте тип значений на целочисленный в этой колонке датафрэйма\n",
    "\n",
    "df4['age'] = df4['age'].astype ('int') #Поменяйте тип значений на целочисленный в этой колонке датафрэйма\n",
    "print(df4.dtypes, '\\n')"
   ],
   "metadata": {
    "collapsed": false,
    "pycharm": {
     "name": "#%%\n"
    }
   }
  },
  {
   "cell_type": "markdown",
   "source": [
    "5) Как выяснилось, для дальнейшего анализа нам не понадобятся колонки sex и age – удалите их из датафрэйма."
   ],
   "metadata": {
    "collapsed": false,
    "pycharm": {
     "name": "#%% md\n"
    }
   }
  },
  {
   "cell_type": "code",
   "execution_count": 40,
   "outputs": [
    {
     "name": "stdout",
     "output_type": "stream",
     "text": [
      "   client_id wealth\n",
      "2          1   high\n",
      "3          3   high \n",
      "\n"
     ]
    }
   ],
   "source": [
    "data = {\n",
    "    'client_id' : [1, 1, 1, 3],\n",
    "    'age' : [23,35,36,59],\n",
    "    'sex' : ['F', 'F','F', 'M'],\n",
    "    'wealth' : ['medium', 'medium', 'high', 'high']\n",
    "}\n",
    "df5 = pd.DataFrame(data)\n",
    "# df5 = df5.drop(columns=['age', 'sex']) # 1й вариант\n",
    "\n",
    "df5.drop(columns=['age', 'sex'], inplace=True) # Удаление колонок и сохранение результата inplace=True\n",
    "df5 = df5.drop(index=[0, 1]) # Удаление строк\n",
    "print(df5, '\\n')\n",
    "\n"
   ],
   "metadata": {
    "collapsed": false,
    "pycharm": {
     "name": "#%%\n"
    }
   }
  },
  {
   "cell_type": "markdown",
   "source": [
    "6) А теперь проверим, есть ли в нашей таблице df дубликаты по полю client_id – дропните все строки, в которых значения в колонке client_id повторяются."
   ],
   "metadata": {
    "collapsed": false,
    "pycharm": {
     "name": "#%% md\n"
    }
   }
  },
  {
   "cell_type": "code",
   "execution_count": 52,
   "outputs": [
    {
     "name": "stdout",
     "output_type": "stream",
     "text": [
      "   client_id  age sex  wealth\n",
      "0          1   23   F  medium\n",
      "1          1   35   F  medium\n",
      "2          1   36   F    high\n",
      "3          3   59   M    high\n",
      "\n",
      "    client_id  age sex  wealth\n",
      "0          1   23   F  medium\n",
      "3          3   59   M    high\n"
     ]
    }
   ],
   "source": [
    "df6 = pd.DataFrame(data)\n",
    "print(df6)\n",
    "# df6.drop_duplicates(inplace=True) # Удаление по полному повтору\n",
    "\n",
    "df6.drop_duplicates('client_id', inplace=True) # Сравнение по колонке client_id и удаление всех кроме первого\n",
    "# df6.drop_duplicates(subset=['client_id'], inplace=True) # Сравнение по колонке client_id и удаление всех кроме первого\n",
    "print('\\n', df7)\n",
    "\n"
   ],
   "metadata": {
    "collapsed": false,
    "pycharm": {
     "name": "#%%\n"
    }
   }
  },
  {
   "cell_type": "markdown",
   "source": [
    "7) Небольшой перерыв на чистый питон. В списке numbers содержатся числа. Добавьте через цикл в список positive_numbers положительные числа из numbers. При этом, если вам попался 0, то нужно прекратить этот цикл.\n",
    "Например,\n",
    "numbers = [1, -2, 3, 0, -3, 2]\n",
    "Тогда positive_numbers должен быть:\n",
    "positive_numbers = [1, 3]"
   ],
   "metadata": {
    "collapsed": false,
    "pycharm": {
     "name": "#%% md\n"
    }
   }
  },
  {
   "cell_type": "code",
   "execution_count": 54,
   "outputs": [
    {
     "name": "stdout",
     "output_type": "stream",
     "text": [
      "[1, 3] \n",
      "end\n",
      "[1, 3] \n",
      "end\n"
     ]
    }
   ],
   "source": [
    "numbers = [1, -2, 3, 0, -3, 2]\n",
    "\n",
    "# Первый вариант\n",
    "positive_numbers = []\n",
    "for number in numbers:\n",
    "    if number > 0:\n",
    "        positive_numbers.append(number)\n",
    "    elif number < 0:\n",
    "        continue\n",
    "    else:\n",
    "        break\n",
    "print(positive_numbers, '\\nend')\n",
    "\n",
    "# Второй вариант\n",
    "positive_numbers1 = []\n",
    "for number in numbers:\n",
    "    if number > 0:\n",
    "        positive_numbers1.append(number)\n",
    "    elif number == 0:\n",
    "        break\n",
    "print(positive_numbers1, '\\nend')"
   ],
   "metadata": {
    "collapsed": false,
    "pycharm": {
     "name": "#%%\n"
    }
   }
  },
  {
   "cell_type": "markdown",
   "source": [
    "8) Продолжим анализ данных по поездкам. В предыдущем уроке вы изучили распределения оценок водителей и клиентов. Теперь посмотрим на колонки со временем!\n",
    "Сохраните данные, находящиеся в папке (taxi_peru.csv), в переменную taxi, разделитель – ;. Затем приведите столбцы start_at, end_at, arrived_at к формату даты, используя pd.to_datetime(). Отфильтруйте данные и оставьте наблюдения со статусом заказа \"asap\" и \"reserved\" (start_type) ."
   ],
   "metadata": {
    "collapsed": false,
    "pycharm": {
     "name": "#%% md\n"
    }
   }
  },
  {
   "cell_type": "code",
   "execution_count": 68,
   "outputs": [
    {
     "name": "stdout",
     "output_type": "stream",
     "text": [
      "\n",
      "Исходные данные:\n",
      " journey_id           object\n",
      "user_id              object\n",
      "driver_id            object\n",
      "taxi_id              object\n",
      "icon                 object\n",
      "start_type           object\n",
      "start_at             object\n",
      "start_lat            object\n",
      "start_lon            object\n",
      "end_at               object\n",
      "end_lat              object\n",
      "end_lon              object\n",
      "end_state            object\n",
      "driver_start_lat     object\n",
      "driver_start_lon     object\n",
      "arrived_at           object\n",
      "source               object\n",
      "driver_score        float64\n",
      "rider_score         float64\n",
      "dtype: object\n"
     ]
    }
   ],
   "source": [
    "taxi = pd.read_csv('Data/taxi_peru.csv',\n",
    "                   sep=';')\n",
    "print('\\nИсходные данные:\\n',taxi.dtypes)"
   ],
   "metadata": {
    "collapsed": false,
    "pycharm": {
     "name": "#%%\n"
    }
   }
  },
  {
   "cell_type": "code",
   "execution_count": 69,
   "outputs": [
    {
     "name": "stdout",
     "output_type": "stream",
     "text": [
      "\n",
      "перевод в тип дата 1й вариант:\n",
      " journey_id                  object\n",
      "user_id                     object\n",
      "driver_id                   object\n",
      "taxi_id                     object\n",
      "icon                        object\n",
      "start_type                  object\n",
      "start_at            datetime64[ns]\n",
      "start_lat                   object\n",
      "start_lon                   object\n",
      "end_at              datetime64[ns]\n",
      "end_lat                     object\n",
      "end_lon                     object\n",
      "end_state                   object\n",
      "driver_start_lat            object\n",
      "driver_start_lon            object\n",
      "arrived_at          datetime64[ns]\n",
      "source                      object\n",
      "driver_score               float64\n",
      "rider_score                float64\n",
      "dtype: object\n"
     ]
    }
   ],
   "source": [
    "# перевод в тип дата 1й вариант\n",
    "taxi['start_at'] = pd.to_datetime(taxi.start_at)\n",
    "taxi['end_at'] = pd.to_datetime(taxi.end_at)\n",
    "taxi['arrived_at'] = pd.to_datetime(taxi.arrived_at)\n",
    "\n",
    "print('\\nперевод в тип дата 1й вариант:\\n',taxi.dtypes)"
   ],
   "metadata": {
    "collapsed": false,
    "pycharm": {
     "name": "#%%\n"
    }
   }
  },
  {
   "cell_type": "code",
   "execution_count": 70,
   "outputs": [
    {
     "name": "stdout",
     "output_type": "stream",
     "text": [
      "перевод в тип дата 2й вариант:\n",
      " journey_id                  object\n",
      "user_id                     object\n",
      "driver_id                   object\n",
      "taxi_id                     object\n",
      "icon                        object\n",
      "start_type                  object\n",
      "start_at            datetime64[ns]\n",
      "start_lat                   object\n",
      "start_lon                   object\n",
      "end_at              datetime64[ns]\n",
      "end_lat                     object\n",
      "end_lon                     object\n",
      "end_state                   object\n",
      "driver_start_lat            object\n",
      "driver_start_lon            object\n",
      "arrived_at          datetime64[ns]\n",
      "source                      object\n",
      "driver_score               float64\n",
      "rider_score                float64\n",
      "dtype: object\n"
     ]
    }
   ],
   "source": [
    "# перевод в тип дата 2й вариант\n",
    "taxi2 = pd.read_csv('Data/taxi_peru.csv',\n",
    "                   sep=';')\n",
    "taxi2[['start_at', 'end_at', 'arrived_at']] = taxi2[['start_at', 'end_at', 'arrived_at']].apply(pd.to_datetime)\n",
    "\n",
    "print('перевод в тип дата 2й вариант:\\n',taxi2.dtypes)"
   ],
   "metadata": {
    "collapsed": false,
    "pycharm": {
     "name": "#%%\n"
    }
   }
  },
  {
   "cell_type": "code",
   "execution_count": 71,
   "outputs": [
    {
     "name": "stdout",
     "output_type": "stream",
     "text": [
      "\n",
      "перевод в тип дата 3й вариант:\n",
      " journey_id                  object\n",
      "user_id                     object\n",
      "driver_id                   object\n",
      "taxi_id                     object\n",
      "icon                        object\n",
      "start_type                  object\n",
      "start_at            datetime64[ns]\n",
      "start_lat                   object\n",
      "start_lon                   object\n",
      "end_at              datetime64[ns]\n",
      "end_lat                     object\n",
      "end_lon                     object\n",
      "end_state                   object\n",
      "driver_start_lat            object\n",
      "driver_start_lon            object\n",
      "arrived_at          datetime64[ns]\n",
      "source                      object\n",
      "driver_score               float64\n",
      "rider_score                float64\n",
      "dtype: object\n"
     ]
    }
   ],
   "source": [
    "# перевод в тип дата 3й вариант\n",
    "taxi3 = pd.read_csv('Data/taxi_peru.csv',\n",
    "                   sep=';',\n",
    "                   parse_dates=['start_at', 'end_at', 'arrived_at']) # перевод в тип дата\n",
    "\n",
    "print('\\nперевод в тип дата 3й вариант:\\n',taxi3.dtypes)"
   ],
   "metadata": {
    "collapsed": false,
    "pycharm": {
     "name": "#%%\n"
    }
   }
  },
  {
   "cell_type": "markdown",
   "source": [
    "#### Отфильтруйте данные и оставьте наблюдения со статусом заказа \"asap\" и \"reserved\" (start_type)"
   ],
   "metadata": {
    "collapsed": false,
    "pycharm": {
     "name": "#%% md\n"
    }
   }
  },
  {
   "cell_type": "code",
   "execution_count": 72,
   "outputs": [
    {
     "name": "stdout",
     "output_type": "stream",
     "text": [
      "Было (23111, 19)\n",
      "Стало (23091, 19)\n"
     ]
    }
   ],
   "source": [
    "start_type = taxi.query('start_type == \"asap\" or start_type == \"reserved\"')\n",
    "print('Было',taxi.shape)\n",
    "print('Стало', start_type.shape)"
   ],
   "metadata": {
    "collapsed": false,
    "pycharm": {
     "name": "#%%\n"
    }
   }
  },
  {
   "cell_type": "markdown",
   "source": [
    "9) ⭐️Задание со звёздочкой!⭐️\n",
    "Создайте колонку wait_time, в которой будет храниться разница между временем подачи машины (arrived_at) и временем заказа (start_at) в минутах. Чтобы сконвертировать полученный результат в минуты, можно использовать метод  .astype('timedelta64[m]')"
   ],
   "metadata": {
    "collapsed": false,
    "pycharm": {
     "name": "#%% md\n"
    }
   }
  },
  {
   "cell_type": "code",
   "execution_count": 73,
   "outputs": [
    {
     "name": "stdout",
     "output_type": "stream",
     "text": [
      "0        18.0\n",
      "1         NaN\n",
      "2         NaN\n",
      "3         NaN\n",
      "4        -5.0\n",
      "         ... \n",
      "23106     0.0\n",
      "23107    13.0\n",
      "23108     9.0\n",
      "23109    -7.0\n",
      "23110     NaN\n",
      "Name: wait_time, Length: 23111, dtype: float64\n"
     ]
    }
   ],
   "source": [
    "# Создание новой колонки\n",
    "taxi['wait_time'] = (taxi.arrived_at - taxi.start_at).astype('timedelta64[m]')\n",
    "print(taxi['wait_time'])"
   ],
   "metadata": {
    "collapsed": false,
    "pycharm": {
     "name": "#%%\n"
    }
   }
  },
  {
   "cell_type": "markdown",
   "source": [
    "9.1)  ⭐️Задание со звёздочкой!⭐️\n",
    "Посмотрим, какие водители опаздывали на заказы к определенному времени (start_type == 'reserved'). Опозданием считается время ожидания wait_time > 0.0.\n",
    "Сгруппируйте отфильтрованные данные по driver_id и в качестве ответа укажите id водителя, который опоздал на заказ интересующего нас типа наибольшее число раз"
   ],
   "metadata": {
    "collapsed": false,
    "pycharm": {
     "name": "#%% md\n"
    }
   }
  },
  {
   "cell_type": "code",
   "execution_count": 81,
   "outputs": [
    {
     "name": "stdout",
     "output_type": "stream",
     "text": [
      "\n",
      " late_number    406921adcca37705ef527b4246c0cfea\n",
      "dtype: object\n"
     ]
    }
   ],
   "source": [
    "# Первый вариант\n",
    "# Отбираем, где опоздание больше 0\n",
    "# Групируем по опозданиям\n",
    "# Количество опозданий\n",
    "# Переименуем колонку\n",
    "# Сортируем по убыванию количество опозданий (лишнее, занимает много времени)\n",
    "# Максимум опозданий\n",
    "\n",
    "driver_id_late1 = taxi.query('start_type == \"reserved\" and wait_time > 0.0')\\\n",
    "    .groupby('driver_id')\\\n",
    "    .agg({'user_id' : 'count'})\\\n",
    "    .rename(columns={'user_id': 'late_number'})\\\n",
    "    .sort_values('late_number', ascending=False)\\\n",
    "    .idxmax()\n",
    "print('\\n', driver_id_late1)"
   ],
   "metadata": {
    "collapsed": false,
    "pycharm": {
     "name": "#%%\n"
    }
   }
  },
  {
   "cell_type": "code",
   "execution_count": 75,
   "outputs": [
    {
     "name": "stdout",
     "output_type": "stream",
     "text": [
      "\n",
      " 406921adcca37705ef527b4246c0cfea\n"
     ]
    }
   ],
   "source": [
    "# Второй вариант быстрее\n",
    "# Отбираем, где опоздание больше 0\n",
    "# сколько раз driver_id появляется в распределении\n",
    "\n",
    "driver_id_late2 = taxi.query('start_type == \"reserved\" and wait_time > 0.0')\\\n",
    "    .driver_id\\\n",
    "    .value_counts()\\\n",
    "    .idxmax()\n",
    "print('\\n', driver_id_late2)"
   ],
   "metadata": {
    "collapsed": false,
    "pycharm": {
     "name": "#%%\n"
    }
   }
  },
  {
   "cell_type": "markdown",
   "source": [
    "10) Подумайте, что может влиять на число опозданий из прошлого задания"
   ],
   "metadata": {
    "collapsed": false,
    "pycharm": {
     "name": "#%% md\n"
    }
   }
  },
  {
   "cell_type": "code",
   "execution_count": null,
   "outputs": [],
   "source": [],
   "metadata": {
    "collapsed": false,
    "pycharm": {
     "name": "#%%\n"
    }
   }
  },
  {
   "cell_type": "markdown",
   "source": [
    "11) ⭐️Задание со звёздочкой!⭐️\n",
    "Добавьте столбец month, где будет храниться месяц, в котором был сделан заказ (start_at), как номер, и столбец weekday – название дня недели."
   ],
   "metadata": {
    "collapsed": false,
    "pycharm": {
     "name": "#%% md\n"
    }
   }
  },
  {
   "cell_type": "code",
   "execution_count": 155,
   "outputs": [
    {
     "name": "stdout",
     "output_type": "stream",
     "text": [
      "month\n",
      " 0        11\n",
      "1         6\n",
      "2         5\n",
      "3         6\n",
      "4         9\n",
      "         ..\n",
      "23106     7\n",
      "23107    10\n",
      "23108     9\n",
      "23109     4\n",
      "23110     3\n",
      "Name: month, Length: 23111, dtype: int64\n"
     ]
    }
   ],
   "source": [
    "taxi['month'] = taxi.start_at.dt.month # Месяц как дата\n",
    "taxi['month_name'] = taxi.start_at.dt.month_name() # Месяц как слово\n",
    "\n",
    "print('month\\n', taxi['month'])"
   ],
   "metadata": {
    "collapsed": false,
    "pycharm": {
     "name": "#%%\n"
    }
   }
  },
  {
   "cell_type": "code",
   "execution_count": 151,
   "outputs": [
    {
     "name": "stdout",
     "output_type": "stream",
     "text": [
      "weekday\n",
      " 0         Tuesday\n",
      "1         Tuesday\n",
      "2          Monday\n",
      "3         Tuesday\n",
      "4        Saturday\n",
      "           ...   \n",
      "23106    Saturday\n",
      "23107    Saturday\n",
      "23108     Tuesday\n",
      "23109    Thursday\n",
      "23110     Tuesday\n",
      "Name: weekday, Length: 23111, dtype: object\n"
     ]
    }
   ],
   "source": [
    "taxi['weekday'] = taxi.start_at.dt.strftime('%A') # день недели как слово\n",
    "\n",
    "print('weekday\\n', taxi['weekday'])"
   ],
   "metadata": {
    "collapsed": false,
    "pycharm": {
     "name": "#%%\n"
    }
   }
  },
  {
   "cell_type": "markdown",
   "source": [
    "12) ⭐️Задание со звёздочкой!⭐️\n",
    "Постройте график числа заказов по месяцам (month). Подумайте, с чем может быть связана полученная картина.\n",
    "Вопрос: в каком летнем месяце было сделано наименьшее число заказов? В качестве ответа введите номер месяца (6, 7 или 8)."
   ],
   "metadata": {
    "collapsed": false,
    "pycharm": {
     "name": "#%% md\n"
    }
   }
  },
  {
   "cell_type": "code",
   "execution_count": 152,
   "outputs": [
    {
     "name": "stderr",
     "output_type": "stream",
     "text": [
      "E:\\!Data-scientist\\!!LessonPre\\!venv\\lib\\site-packages\\seaborn\\_decorators.py:36: FutureWarning: Pass the following variable as a keyword arg: x. From version 0.12, the only valid positional argument will be `data`, and passing other arguments without an explicit keyword will result in an error or misinterpretation.\n",
      "  warnings.warn(\n"
     ]
    },
    {
     "data": {
      "text/plain": "<Figure size 432x288 with 1 Axes>",
      "image/png": "[encoded data removed]"
     },
     "metadata": {
      "needs_background": "light"
     },
     "output_type": "display_data"
    }
   ],
   "source": [
    "sns.countplot(taxi.month)\n",
    "plt.show()"
   ],
   "metadata": {
    "collapsed": false,
    "pycharm": {
     "name": "#%%\n"
    }
   }
  },
  {
   "cell_type": "code",
   "execution_count": 2,
   "outputs": [
    {
     "ename": "NameError",
     "evalue": "name 'plt' is not defined",
     "output_type": "error",
     "traceback": [
      "\u001B[1;31m---------------------------------------------------------------------------\u001B[0m",
      "\u001B[1;31mNameError\u001B[0m                                 Traceback (most recent call last)",
      "Input \u001B[1;32mIn [2]\u001B[0m, in \u001B[0;36m<cell line: 1>\u001B[1;34m()\u001B[0m\n\u001B[1;32m----> 1\u001B[0m \u001B[43mplt\u001B[49m\u001B[38;5;241m.\u001B[39mfigure(figsize\u001B[38;5;241m=\u001B[39m(\u001B[38;5;241m12\u001B[39m, \u001B[38;5;241m8\u001B[39m)) \u001B[38;5;66;03m# Изменяем размер\u001B[39;00m\n\u001B[0;32m      2\u001B[0m sns\u001B[38;5;241m.\u001B[39mdespine() \u001B[38;5;66;03m# Убираем рамку таблицы\u001B[39;00m\n\u001B[0;32m      3\u001B[0m sns\u001B[38;5;241m.\u001B[39mcountplot(taxi\u001B[38;5;241m.\u001B[39mmonth_name,\n\u001B[0;32m      4\u001B[0m               order\u001B[38;5;241m=\u001B[39m[\u001B[38;5;124m'\u001B[39m\u001B[38;5;124mJanuary\u001B[39m\u001B[38;5;124m'\u001B[39m, \u001B[38;5;124m'\u001B[39m\u001B[38;5;124mFebruary\u001B[39m\u001B[38;5;124m'\u001B[39m, \u001B[38;5;124m'\u001B[39m\u001B[38;5;124mMarch\u001B[39m\u001B[38;5;124m'\u001B[39m, \u001B[38;5;124m'\u001B[39m\u001B[38;5;124mApril\u001B[39m\u001B[38;5;124m'\u001B[39m, \u001B[38;5;124m'\u001B[39m\u001B[38;5;124mMay\u001B[39m\u001B[38;5;124m'\u001B[39m, \u001B[38;5;124m'\u001B[39m\u001B[38;5;124mJune\u001B[39m\u001B[38;5;124m'\u001B[39m, \u001B[38;5;124m'\u001B[39m\u001B[38;5;124mJuly\u001B[39m\u001B[38;5;124m'\u001B[39m, \u001B[38;5;124m'\u001B[39m\u001B[38;5;124mAugust\u001B[39m\u001B[38;5;124m'\u001B[39m, \u001B[38;5;124m'\u001B[39m\u001B[38;5;124mSeptember\u001B[39m\u001B[38;5;124m'\u001B[39m, \u001B[38;5;124m'\u001B[39m\u001B[38;5;124mOctober\u001B[39m\u001B[38;5;124m'\u001B[39m, \u001B[38;5;124m'\u001B[39m\u001B[38;5;124mNovember\u001B[39m\u001B[38;5;124m'\u001B[39m, \u001B[38;5;124m'\u001B[39m\u001B[38;5;124mDecember\u001B[39m\u001B[38;5;124m'\u001B[39m]\n\u001B[0;32m      5\u001B[0m                )\n",
      "\u001B[1;31mNameError\u001B[0m: name 'plt' is not defined"
     ]
    }
   ],
   "source": [
    "plt.figure(figsize=(12, 8)) # Изменяем размер\n",
    "sns.despine() # Убираем рамку таблицы\n",
    "sns.countplot(taxi.month_name,\n",
    "              order=['January', 'February', 'March', 'April', 'May', 'June', 'July', 'August', 'September', 'October', 'November', 'December']\n",
    "               )\n",
    "plt.show()"
   ],
   "metadata": {
    "collapsed": false,
    "pycharm": {
     "name": "#%%\n"
    }
   }
  },
  {
   "cell_type": "markdown",
   "source": [
    "13) ⭐️Задание со звёздочкой!⭐️\n",
    "А теперь – график по дням недели (weekday). Задать порядок столбиков на графике можно с помощью аргумента order, которому нужно передать список названий в нужном порядке. Например:\n",
    "sns.countplot(data['column'], order=['One', 'Two', 'Three'])\n",
    "Вопрос: в какой день недели суммарно поступило меньше всего заказов?"
   ],
   "metadata": {
    "collapsed": false,
    "pycharm": {
     "name": "#%% md\n"
    }
   }
  },
  {
   "cell_type": "code",
   "execution_count": 157,
   "outputs": [
    {
     "name": "stderr",
     "output_type": "stream",
     "text": [
      "E:\\!Data-scientist\\!!LessonPre\\!venv\\lib\\site-packages\\seaborn\\_decorators.py:36: FutureWarning: Pass the following variable as a keyword arg: x. From version 0.12, the only valid positional argument will be `data`, and passing other arguments without an explicit keyword will result in an error or misinterpretation.\n",
      "  warnings.warn(\n"
     ]
    },
    {
     "data": {
      "text/plain": "<Figure size 864x576 with 1 Axes>",
      "image/png": "[encoded data removed]"
     },
     "metadata": {
      "needs_background": "light"
     },
     "output_type": "display_data"
    }
   ],
   "source": [
    "plt.figure(figsize=(12, 8)) # Изменяем размер\n",
    "sns.countplot('weekday',\n",
    "              data = taxi,\n",
    "              order=['Monday', 'Tuesday', 'Wednesday', 'Tuesday', 'Friday', 'Saturday', 'Sunday'],\n",
    "              hue = 'start_type',\n",
    "              palette=['#01edff', '#10cc95', '#eff2a1']\n",
    ")\n",
    "sns.despine() # Убираем рамку таблицы\n",
    "plt.show()"
   ],
   "metadata": {
    "collapsed": false,
    "pycharm": {
     "name": "#%%\n"
    }
   }
  },
  {
   "cell_type": "markdown",
   "source": [
    "14) ⭐️Задание со звёздочкой!⭐️\n",
    "Также мы можем посмотреть на несколько простых метрик, показывающих число уникальных пользователей за определённый период:\n",
    "DAU (daily active users) – число уникальных пользователей за день\n",
    "WAU (weekly active users) – число уникальных пользователей за неделю\n",
    "MAU (monthly active users) – число уникальных пользователей за месяц\n",
    "Активные пользователи – те, кто воспользовался приложением и сделал хотя бы один заказ за выбранный промежуток времени. Постройте график MAU и выберите верные утверждения.\n",
    "Могут пригодиться:\n",
    "groupby – группировка\n",
    "nunique – число уникальных значений\n",
    "plot.line – линейная диаграмма"
   ],
   "metadata": {
    "collapsed": false,
    "pycharm": {
     "name": "#%% md\n"
    }
   }
  },
  {
   "cell_type": "code",
   "execution_count": 179,
   "outputs": [
    {
     "name": "stdout",
     "output_type": "stream",
     "text": [
      "       MAU\n",
      "month     \n",
      "1      102\n",
      "2      111\n",
      "3      163\n",
      "4      254\n",
      "5      275\n",
      "6      309\n",
      "7      318\n",
      "8      377\n",
      "9      416\n",
      "10     437\n",
      "11     504\n",
      "12     569\n"
     ]
    }
   ],
   "source": [
    "monthly_active_users1 = taxi.groupby('month')\\\n",
    "                            .agg({'user_id': pd.Series.nunique})\\\n",
    "                            .rename(columns={'user_id': 'MAU'})\n",
    "print(monthly_active_users1)"
   ],
   "metadata": {
    "collapsed": false,
    "pycharm": {
     "name": "#%%\n"
    }
   }
  },
  {
   "cell_type": "code",
   "execution_count": 180,
   "outputs": [
    {
     "name": "stdout",
     "output_type": "stream",
     "text": [
      "       MAU\n",
      "month     \n",
      "1      102\n",
      "2      111\n",
      "3      163\n",
      "4      254\n",
      "5      275\n",
      "6      309\n",
      "7      318\n",
      "8      377\n",
      "9      416\n",
      "10     437\n",
      "11     504\n",
      "12     569\n"
     ]
    }
   ],
   "source": [
    "monthly_active_users2 = taxi.groupby('month')\\\n",
    "                            .agg({'user_id': lambda group: group.nunique()}, as_index=False)\\\n",
    "                            .rename(columns={'user_id': 'MAU'})\n",
    "print(monthly_active_users2)"
   ],
   "metadata": {
    "collapsed": false,
    "pycharm": {
     "name": "#%%\n"
    }
   }
  },
  {
   "cell_type": "code",
   "execution_count": 181,
   "outputs": [
    {
     "data": {
      "text/plain": "<AxesSubplot:xlabel='month'>"
     },
     "execution_count": 181,
     "metadata": {},
     "output_type": "execute_result"
    },
    {
     "data": {
      "text/plain": "<Figure size 864x576 with 1 Axes>",
      "image/png": "[encoded data removed]"
     },
     "metadata": {
      "needs_background": "light"
     },
     "output_type": "display_data"
    }
   ],
   "source": [
    "# Сделаем график в питоне\n",
    "monthly_active_users1.plot(figsize=(12, 8))"
   ],
   "metadata": {
    "collapsed": false,
    "pycharm": {
     "name": "#%%\n"
    }
   }
  },
  {
   "cell_type": "code",
   "execution_count": 182,
   "outputs": [
    {
     "data": {
      "text/plain": "<AxesSubplot:xlabel='month'>"
     },
     "execution_count": 182,
     "metadata": {},
     "output_type": "execute_result"
    },
    {
     "data": {
      "text/plain": "<Figure size 432x288 with 1 Axes>",
      "image/png": "[encoded data removed]"
     },
     "metadata": {
      "needs_background": "light"
     },
     "output_type": "display_data"
    }
   ],
   "source": [
    "sns.lineplot(data=monthly_active_users1)\n",
    "# mau.plot(figsize=(12, 8))"
   ],
   "metadata": {
    "collapsed": false,
    "pycharm": {
     "name": "#%%\n"
    }
   }
  },
  {
   "cell_type": "code",
   "execution_count": 183,
   "outputs": [
    {
     "data": {
      "text/plain": "<AxesSubplot:xlabel='month'>"
     },
     "execution_count": 183,
     "metadata": {},
     "output_type": "execute_result"
    },
    {
     "data": {
      "text/plain": "<Figure size 864x576 with 1 Axes>",
      "image/png": "[encoded data removed]"
     },
     "metadata": {
      "needs_background": "light"
     },
     "output_type": "display_data"
    }
   ],
   "source": [
    "plt.figure(figsize=(12, 8)) # Изменяем размер\n",
    "sns.lineplot(data=monthly_active_users1, markers=True)"
   ],
   "metadata": {
    "collapsed": false,
    "pycharm": {
     "name": "#%%\n"
    }
   }
  },
  {
   "cell_type": "code",
   "execution_count": 187,
   "outputs": [
    {
     "name": "stdout",
     "output_type": "stream",
     "text": [
      "[1, 2, 3, 4, 5, 6, 7, 8, 9, 10, 11, 12]\n"
     ]
    },
    {
     "data": {
      "text/plain": "<Figure size 864x576 with 1 Axes>",
      "image/png": "[encoded data removed]"
     },
     "metadata": {
      "needs_background": "light"
     },
     "output_type": "display_data"
    }
   ],
   "source": [
    "# Сделаем красивый график\n",
    "xticks = range(1, 13, 1)\n",
    "print(list(range(1, 13, 1))) # Создаём числа от 1 до 12 с шагом 1\n",
    "\n",
    "plt.figure(figsize=(12, 8)) # Изменяем размер\n",
    "sns.lineplot(data=monthly_active_users1, markers=True)\n",
    "\n",
    "plt.xticks(xticks)\n",
    "plt.show()"
   ],
   "metadata": {
    "collapsed": false,
    "pycharm": {
     "name": "#%%\n"
    }
   }
  },
  {
   "cell_type": "code",
   "execution_count": null,
   "outputs": [],
   "source": [],
   "metadata": {
    "collapsed": false,
    "pycharm": {
     "name": "#%%\n"
    }
   }
  }
 ],
 "metadata": {
  "kernelspec": {
   "display_name": "Python 3",
   "language": "python",
   "name": "python3"
  },
  "language_info": {
   "codemirror_mode": {
    "name": "ipython",
    "version": 2
   },
   "file_extension": ".py",
   "mimetype": "text/x-python",
   "name": "python",
   "nbconvert_exporter": "python",
   "pygments_lexer": "ipython2",
   "version": "2.7.6"
  }
 },
 "nbformat": 4,
 "nbformat_minor": 0
}