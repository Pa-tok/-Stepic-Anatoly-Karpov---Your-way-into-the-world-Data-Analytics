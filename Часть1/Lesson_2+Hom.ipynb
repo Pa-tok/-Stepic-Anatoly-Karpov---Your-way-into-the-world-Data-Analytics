{
 "cells": [
  {
   "cell_type": "code",
   "execution_count": 2,
   "outputs": [],
   "source": [
    "import pandas as pd"
   ],
   "metadata": {
    "collapsed": false,
    "pycharm": {
     "name": "#%%\n"
    }
   }
  },
  {
   "cell_type": "code",
   "execution_count": 3,
   "outputs": [],
   "source": [
    "# Вывод данных из csv во всю ширину окна\n",
    "pd.set_option('display.max_rows', 500)\n",
    "pd.set_option('display.max_columns', 500)\n",
    "pd.set_option('display.width', 1000)"
   ],
   "metadata": {
    "collapsed": false,
    "pycharm": {
     "name": "#%%\n"
    }
   }
  },
  {
   "cell_type": "markdown",
   "source": [
    "1) Начнем с простого вопроса: что произойдет в результате выполнения следующей команды?\n",
    "import pandas as pnds"
   ],
   "metadata": {
    "collapsed": false,
    "pycharm": {
     "name": "#%% md\n"
    }
   }
  },
  {
   "cell_type": "markdown",
   "source": [
    "2) Теперь поработаем с данными о поездках на такси в Нью-Йорке, где также имеется информация о погодных условиях и выходных днях.\n",
    "\n",
    "* pickup_dt – период с точностью до часа\n",
    "* pickup_month – месяц\n",
    "* borough – район Нью-Йорка, из которого был сделан заказ (5 районов + аэропорт)\n",
    "* pickups – число поездок за период (час)\n",
    "* hday – является ли день праздничным/выходным; Y - да,  N - нет\n",
    "* spd – скорость ветра в милях в час\n",
    "* vsb – видимость\n",
    "* temp – температура в градусах Фаренгейта\n",
    "* dewp – точка росы по Фаренгейту\n",
    "* slp – давление\n",
    "* pcp_01 – количество осадков за час\n",
    "* pcp_06 – количество осадков за 6 часов\n",
    "* pcp_24 – количество осадков за 24 часа\n",
    "* sd – глубина снега в дюймах\n",
    "\n",
    "Импортируйте библиотеку pandas, а затем загрузите датасет 2_taxi_nyc (находится в папке). Результат сохраните в переменную taxi.\n",
    "Для загрузки датасэта в pandas по ссылке просто выполните pd.read_csv('path')"
   ],
   "metadata": {
    "collapsed": false,
    "pycharm": {
     "name": "#%% md\n"
    }
   }
  },
  {
   "cell_type": "code",
   "execution_count": 4,
   "outputs": [
    {
     "name": "stdout",
     "output_type": "stream",
     "text": [
      "Первые 5 строк:\n",
      "              pickup_dt pickup_month    borough  pickups hday  spd   vsb  temp  dewp     slp  pcp 01  pcp 06  pcp 24   sd\n",
      "0  2015-01-01 01:00:00          Jan      Bronx      152    Y  5.0  10.0  30.0   7.0  1023.5     0.0     0.0     0.0  0.0\n",
      "1  2015-01-01 01:00:00          Jan   Brooklyn     1519    Y  5.0  10.0  30.0   7.0  1023.5     0.0     0.0     0.0  0.0\n",
      "2  2015-01-01 01:00:00          Jan        EWR        0    Y  5.0  10.0  30.0   7.0  1023.5     0.0     0.0     0.0  0.0\n",
      "3  2015-01-01 01:00:00          Jan  Manhattan     5258    Y  5.0  10.0  30.0   7.0  1023.5     0.0     0.0     0.0  0.0\n",
      "4  2015-01-01 01:00:00          Jan     Queens      405    Y  5.0  10.0  30.0   7.0  1023.5     0.0     0.0     0.0  0.0\n"
     ]
    }
   ],
   "source": [
    "# taxi = pd.read_csv(\"https://stepik.org/media/attachments/lesson/360340/2_taxi_nyc.csv\")\n",
    "taxi = pd.read_csv(\"data/2_taxi_nyc.csv\")\n",
    "\n",
    "# это питоновский кортеж - структура данных похожая на не изменяемые списки\n",
    "print('Первые 5 строк:\\n', taxi.head())"
   ],
   "metadata": {
    "collapsed": false,
    "pycharm": {
     "name": "#%%\n"
    }
   }
  },
  {
   "cell_type": "code",
   "execution_count": 5,
   "outputs": [
    {
     "name": "stdout",
     "output_type": "stream",
     "text": [
      "Последние 5 строк:\n",
      "                  pickup_dt pickup_month        borough  pickups hday  spd   vsb  temp  dewp     slp  pcp 01  pcp 06  pcp 24   sd\n",
      "29096  2015-06-30 23:00:00          Jun            EWR        0    N  7.0  10.0  75.0  65.0  1011.8     0.0     0.0     0.0  0.0\n",
      "29097  2015-06-30 23:00:00          Jun      Manhattan     3828    N  7.0  10.0  75.0  65.0  1011.8     0.0     0.0     0.0  0.0\n",
      "29098  2015-06-30 23:00:00          Jun         Queens      580    N  7.0  10.0  75.0  65.0  1011.8     0.0     0.0     0.0  0.0\n",
      "29099  2015-06-30 23:00:00          Jun  Staten Island        0    N  7.0  10.0  75.0  65.0  1011.8     0.0     0.0     0.0  0.0\n",
      "29100  2015-06-30 23:00:00          Jun            NaN        3    N  7.0  10.0  75.0  65.0  1011.8     0.0     0.0     0.0  0.0\n"
     ]
    }
   ],
   "source": [
    "print('Последние 5 строк:\\n', taxi.tail())"
   ],
   "metadata": {
    "collapsed": false,
    "pycharm": {
     "name": "#%%\n"
    }
   }
  },
  {
   "cell_type": "markdown",
   "source": [
    "3) Проверьте, сколько всего строк и столбцов имеется в датасете."
   ],
   "metadata": {
    "collapsed": false,
    "pycharm": {
     "name": "#%% md\n"
    }
   }
  },
  {
   "cell_type": "code",
   "execution_count": 6,
   "outputs": [
    {
     "name": "stdout",
     "output_type": "stream",
     "text": [
      "В документе 29101 cтрок , 14 столбцов:\n",
      " (29101, 14)\n"
     ]
    }
   ],
   "source": [
    "# это питоновский кортеж - структура данных похожая на неизменяемые списки\n",
    "print('В документе 29101 cтрок, 14 столбцов:\\n',taxi.shape)"
   ],
   "metadata": {
    "collapsed": false,
    "pycharm": {
     "name": "#%%\n"
    }
   }
  },
  {
   "cell_type": "markdown",
   "source": [
    "4) Давайте посмотрим на типы колонок. Все ли из них считались правильно? Назовите тип, преобладающий в датасете."
   ],
   "metadata": {
    "collapsed": false,
    "pycharm": {
     "name": "#%% md\n"
    }
   }
  },
  {
   "cell_type": "code",
   "execution_count": 7,
   "outputs": [
    {
     "name": "stdout",
     "output_type": "stream",
     "text": [
      "Типы столбцов:\n",
      " pickup_dt        object\n",
      "pickup_month     object\n",
      "borough          object\n",
      "pickups           int64\n",
      "hday             object\n",
      "spd             float64\n",
      "vsb             float64\n",
      "temp            float64\n",
      "dewp            float64\n",
      "slp             float64\n",
      "pcp 01          float64\n",
      "pcp 06          float64\n",
      "pcp 24          float64\n",
      "sd              float64\n",
      "dtype: object\n"
     ]
    }
   ],
   "source": [
    "print('Типы столбцов:\\n', taxi.dtypes) #"
   ],
   "metadata": {
    "collapsed": false,
    "pycharm": {
     "name": "#%%\n"
    }
   }
  },
  {
   "cell_type": "code",
   "execution_count": 14,
   "outputs": [
    {
     "name": "stdout",
     "output_type": "stream",
     "text": [
      "Для каждого уникального значения в серии считает сколько число встречается:\n",
      " float64    9\n",
      "object     4\n",
      "int64      1\n",
      "dtype: int64\n"
     ]
    }
   ],
   "source": [
    "# value_counts- для каждого уникального значения в серии считает сколько раз встречается\n",
    "print('Для каждого уникального значения в серии считает сколько число встречается:\\n', taxi.dtypes.value_counts())"
   ],
   "metadata": {
    "collapsed": false,
    "pycharm": {
     "name": "#%%\n"
    }
   }
  },
  {
   "cell_type": "code",
   "execution_count": 16,
   "outputs": [
    {
     "name": "stdout",
     "output_type": "stream",
     "text": [
      "Индексы столбцов:\n",
      " Index(['pickup_dt', 'pickup_month', 'borough', 'pickups', 'hday', 'spd', 'vsb', 'temp', 'dewp', 'slp', 'pcp_01', 'pcp_06', 'pcp_24', 'sd'], dtype='object')\n"
     ]
    }
   ],
   "source": [
    "print('Индексы столбцов:\\n', taxi.columns) # Индексы столбцов"
   ],
   "metadata": {
    "collapsed": false,
    "pycharm": {
     "name": "#%%\n"
    }
   }
  },
  {
   "cell_type": "markdown",
   "source": [
    "5) В названиях столбцов pcp 01, pcp 06, pcp 24 встречается пробел. Это не очень удобно, если в дальнейшем вы планируете обращаться к колонкам через точку, без использования кавычек и скобочек.\n",
    "Замените пробел в названиях на знак нижнего подчеркивания."
   ],
   "metadata": {
    "collapsed": false,
    "pycharm": {
     "name": "#%% md\n"
    }
   }
  },
  {
   "cell_type": "code",
   "execution_count": 21,
   "outputs": [
    {
     "name": "stdout",
     "output_type": "stream",
     "text": [
      "Вывод колонки \"borough:\n",
      " 0                Bronx\n",
      "1             Brooklyn\n",
      "2                  EWR\n",
      "3            Manhattan\n",
      "4               Queens\n",
      "             ...      \n",
      "29096              EWR\n",
      "29097        Manhattan\n",
      "29098           Queens\n",
      "29099    Staten Island\n",
      "29100              NaN\n",
      "Name: borough, Length: 29101, dtype: object\n"
     ]
    }
   ],
   "source": [
    "print('Вывод колонки \"borough:\\n', taxi.borough) #\n",
    "# print('Альтернативный вывод колонки \"borough:\\n', taxi['borough']) # нет дополнения - хуже"
   ],
   "metadata": {
    "collapsed": false,
    "pycharm": {
     "name": "#%%\n"
    }
   }
  },
  {
   "cell_type": "code",
   "execution_count": 23,
   "outputs": [
    {
     "name": "stdout",
     "output_type": "stream",
     "text": [
      "                 pickup_dt pickup_month        borough  pickups hday  spd   vsb  temp  dewp     slp  pcp_01  pcp_06  pcp_24   sd\n",
      "0      2015-01-01 01:00:00          Jan          Bronx      152    Y  5.0  10.0  30.0   7.0  1023.5     0.0     0.0     0.0  0.0\n",
      "1      2015-01-01 01:00:00          Jan       Brooklyn     1519    Y  5.0  10.0  30.0   7.0  1023.5     0.0     0.0     0.0  0.0\n",
      "2      2015-01-01 01:00:00          Jan            EWR        0    Y  5.0  10.0  30.0   7.0  1023.5     0.0     0.0     0.0  0.0\n",
      "3      2015-01-01 01:00:00          Jan      Manhattan     5258    Y  5.0  10.0  30.0   7.0  1023.5     0.0     0.0     0.0  0.0\n",
      "4      2015-01-01 01:00:00          Jan         Queens      405    Y  5.0  10.0  30.0   7.0  1023.5     0.0     0.0     0.0  0.0\n",
      "...                    ...          ...            ...      ...  ...  ...   ...   ...   ...     ...     ...     ...     ...  ...\n",
      "29096  2015-06-30 23:00:00          Jun            EWR        0    N  7.0  10.0  75.0  65.0  1011.8     0.0     0.0     0.0  0.0\n",
      "29097  2015-06-30 23:00:00          Jun      Manhattan     3828    N  7.0  10.0  75.0  65.0  1011.8     0.0     0.0     0.0  0.0\n",
      "29098  2015-06-30 23:00:00          Jun         Queens      580    N  7.0  10.0  75.0  65.0  1011.8     0.0     0.0     0.0  0.0\n",
      "29099  2015-06-30 23:00:00          Jun  Staten Island        0    N  7.0  10.0  75.0  65.0  1011.8     0.0     0.0     0.0  0.0\n",
      "29100  2015-06-30 23:00:00          Jun            NaN        3    N  7.0  10.0  75.0  65.0  1011.8     0.0     0.0     0.0  0.0\n",
      "\n",
      "[29101 rows x 14 columns]\n"
     ]
    }
   ],
   "source": [
    "#  Переименуем колонки\n",
    "taxiS = taxi.rename(columns ={'pcp 01' : 'pcp_01',\n",
    "                             'pcp 06' : 'pcp_06',\n",
    "                             'pcp 24' : 'pcp_24'})\n",
    "print(taxiS)"
   ],
   "metadata": {
    "collapsed": false,
    "pycharm": {
     "name": "#%%\n"
    }
   }
  },
  {
   "cell_type": "code",
   "execution_count": 33,
   "outputs": [
    {
     "name": "stdout",
     "output_type": "stream",
     "text": [
      "Hello Word\n",
      "Hello_Word\n",
      "s_1\n"
     ]
    }
   ],
   "source": [
    "#  Переименуем колонки через замену символов\n",
    "s= 'Hello Word'\n",
    "print(s)\n",
    "print(s.replace(' ', '_'))\n",
    "\n",
    "# Сделаем её функцией underscore_rename\n",
    "def underscore_rename(name):\n",
    "    return name.replace(' ', '_')\n",
    "print(underscore_rename('s 1'))"
   ],
   "metadata": {
    "collapsed": false,
    "pycharm": {
     "name": "#%%\n"
    }
   }
  },
  {
   "cell_type": "code",
   "execution_count": 34,
   "outputs": [
    {
     "name": "stdout",
     "output_type": "stream",
     "text": [
      "                 pickup_dt pickup_month        borough  pickups hday  spd   vsb  temp  dewp     slp  pcp_01  pcp_06  pcp_24   sd\n",
      "0      2015-01-01 01:00:00          Jan          Bronx      152    Y  5.0  10.0  30.0   7.0  1023.5     0.0     0.0     0.0  0.0\n",
      "1      2015-01-01 01:00:00          Jan       Brooklyn     1519    Y  5.0  10.0  30.0   7.0  1023.5     0.0     0.0     0.0  0.0\n",
      "2      2015-01-01 01:00:00          Jan            EWR        0    Y  5.0  10.0  30.0   7.0  1023.5     0.0     0.0     0.0  0.0\n",
      "3      2015-01-01 01:00:00          Jan      Manhattan     5258    Y  5.0  10.0  30.0   7.0  1023.5     0.0     0.0     0.0  0.0\n",
      "4      2015-01-01 01:00:00          Jan         Queens      405    Y  5.0  10.0  30.0   7.0  1023.5     0.0     0.0     0.0  0.0\n",
      "...                    ...          ...            ...      ...  ...  ...   ...   ...   ...     ...     ...     ...     ...  ...\n",
      "29096  2015-06-30 23:00:00          Jun            EWR        0    N  7.0  10.0  75.0  65.0  1011.8     0.0     0.0     0.0  0.0\n",
      "29097  2015-06-30 23:00:00          Jun      Manhattan     3828    N  7.0  10.0  75.0  65.0  1011.8     0.0     0.0     0.0  0.0\n",
      "29098  2015-06-30 23:00:00          Jun         Queens      580    N  7.0  10.0  75.0  65.0  1011.8     0.0     0.0     0.0  0.0\n",
      "29099  2015-06-30 23:00:00          Jun  Staten Island        0    N  7.0  10.0  75.0  65.0  1011.8     0.0     0.0     0.0  0.0\n",
      "29100  2015-06-30 23:00:00          Jun            NaN        3    N  7.0  10.0  75.0  65.0  1011.8     0.0     0.0     0.0  0.0\n",
      "\n",
      "[29101 rows x 14 columns]\n"
     ]
    }
   ],
   "source": [
    "taxi = taxi.rename(columns =underscore_rename)\n",
    "print(taxi)"
   ],
   "metadata": {
    "collapsed": false,
    "pycharm": {
     "name": "#%%\n"
    }
   }
  },
  {
   "cell_type": "markdown",
   "source": [
    "6) Вас попросили узнать, сколько записей (строк) в датафрейме относятся к району Манхэттен (Manhattan). Получить ответ на данный вопрос можно было бы, например, с помощью следующей команды:\n",
    "taxi.query(\"borough == 'Manhattan'\").shape[0]\n",
    "А если мы хотим посмотреть, сколько раз встречается каждый из районов? Неужели придется использовать подобную конструкцию для каждого уровня переменной? Здесь на помощь приходит метод value_counts(), подробнее о котором можно почитать в конспекте!\n",
    "Сколько раз в данных встречается район Бруклин (Brooklyn)?"
   ],
   "metadata": {
    "collapsed": false,
    "pycharm": {
     "name": "#%% md\n"
    }
   }
  },
  {
   "cell_type": "code",
   "execution_count": 36,
   "outputs": [
    {
     "name": "stdout",
     "output_type": "stream",
     "text": [
      "Бруклин (Brooklyn) в данных встречается \n",
      " 4343\n"
     ]
    }
   ],
   "source": [
    "# поиск значения вариант №1\n",
    "taxi1 = taxi.query('borough == \"Brooklyn\"') \\\n",
    "      .shape[0]\n",
    "print('Бруклин (Brooklyn) в данных встречается \\n', taxi1)"
   ],
   "metadata": {
    "collapsed": false,
    "pycharm": {
     "name": "#%%\n"
    }
   }
  },
  {
   "cell_type": "code",
   "execution_count": 39,
   "outputs": [
    {
     "name": "stdout",
     "output_type": "stream",
     "text": [
      "групировка по значениям;\n",
      "                hday\n",
      "borough            \n",
      "Bronx          4343\n",
      "Brooklyn       4343\n",
      "EWR            4343\n",
      "Manhattan      4343\n",
      "Queens         4343\n",
      "Staten Island  4343\n"
     ]
    }
   ],
   "source": [
    "# поиск значения вариант №2  - групировка (не очень хорош)\n",
    "taxi2 = taxi.groupby('borough') \\\n",
    "      .agg({'hday': 'count'})\n",
    "print('групировка по значениям;\\n', taxi2)"
   ],
   "metadata": {
    "collapsed": false,
    "pycharm": {
     "name": "#%%\n"
    }
   }
  },
  {
   "cell_type": "code",
   "execution_count": 40,
   "outputs": [
    {
     "name": "stdout",
     "output_type": "stream",
     "text": [
      "Bronx            4343\n",
      "Brooklyn         4343\n",
      "EWR              4343\n",
      "Manhattan        4343\n",
      "Queens           4343\n",
      "Staten Island    4343\n",
      "Name: borough, dtype: int64\n"
     ]
    }
   ],
   "source": [
    "# поиск значения №3 - оптимальный вариант\n",
    "taxi3 = taxi.borough.value_counts()\n",
    "print(taxi3)"
   ],
   "metadata": {
    "collapsed": false,
    "pycharm": {
     "name": "#%%\n"
    }
   }
  },
  {
   "cell_type": "markdown",
   "source": [
    "7) Следующая задача: выяснить, из какого района было совершено наибольшее количество поездок за весь период.\n",
    "Для начала, посчитайте общее количество поездок (pickups), без группировки."
   ],
   "metadata": {
    "collapsed": false,
    "pycharm": {
     "name": "#%% md\n"
    }
   }
  },
  {
   "cell_type": "code",
   "execution_count": 47,
   "outputs": [
    {
     "name": "stdout",
     "output_type": "stream",
     "text": [
      "Коичество поездок (сумма):\n",
      " 14265773\n"
     ]
    }
   ],
   "source": [
    "# Коичество поездок (сумма)\n",
    "Summa = taxi.pickups.sum()\n",
    "print('Коичество поездок (сумма):\\n', Summa)"
   ],
   "metadata": {
    "collapsed": false,
    "pycharm": {
     "name": "#%%\n"
    }
   }
  },
  {
   "cell_type": "markdown",
   "source": [
    "8) А теперь сгруппируйте данные по району (borough) и укажите, из какого пункта было совершено больше всего поездок."
   ],
   "metadata": {
    "collapsed": false,
    "pycharm": {
     "name": "#%% md\n"
    }
   }
  },
  {
   "cell_type": "code",
   "execution_count": 49,
   "outputs": [
    {
     "name": "stdout",
     "output_type": "stream",
     "text": [
      "Количество поездок по районам:\n",
      "                 pickups\n",
      "borough                \n",
      "Bronx            220047\n",
      "Brooklyn        2321035\n",
      "EWR                 105\n",
      "Manhattan      10367841\n",
      "Queens          1343528\n",
      "Staten Island      6957\n",
      "\n",
      "Больше всего поездок из района:\n",
      " pickups    Manhattan\n",
      "dtype: object\n"
     ]
    }
   ],
   "source": [
    "# Количество поездок по районам\n",
    "SummaRayon = taxi.groupby('borough')\\\n",
    "            .agg({'pickups': 'sum'})\n",
    "print('Количество поездок по районам:\\n', SummaRayon)\n",
    "\n",
    "# Из какого района больше всего поездок\n",
    "MaxRayon = taxi.groupby('borough')\\\n",
    "            .agg({'pickups': 'sum'})\\\n",
    "            .idxmax()\n",
    "print('\\nБольше всего поездок из района:\\n', MaxRayon)"
   ],
   "metadata": {
    "collapsed": false,
    "pycharm": {
     "name": "#%%\n"
    }
   }
  },
  {
   "cell_type": "markdown",
   "source": [
    "9) ⭐️Задание со звёздочкой!⭐️\n",
    "Еще несколько полезных методов в pandas! Возможно, в предыдущем степе вы просто посмотрели на данные или отсортировали значения. Ускорить данный процесс в дальнейшем помогут методы idxmin() и idxmax(), которые возвращают индекс минимального или максимального значения.\n",
    "Сохраните название района с наименьшим числом поездок в переменную min_pickups, применив подходящий метод."
   ],
   "metadata": {
    "collapsed": false,
    "pycharm": {
     "name": "#%% md\n"
    }
   }
  },
  {
   "cell_type": "code",
   "execution_count": 52,
   "outputs": [
    {
     "name": "stdout",
     "output_type": "stream",
     "text": [
      "Меньше всего поездок из района:\n",
      " pickups    EWR\n",
      "dtype: object\n"
     ]
    }
   ],
   "source": [
    "# Из какого района меньше всего поездок\n",
    "MinRayon = taxi.groupby('borough')\\\n",
    "            .agg({'pickups': 'sum'})\\\n",
    "            .idxmin()\n",
    "print('Меньше всего поездок из района:\\n', MinRayon)"
   ],
   "metadata": {
    "collapsed": false,
    "pycharm": {
     "name": "#%%\n"
    }
   }
  },
  {
   "cell_type": "markdown",
   "source": [
    "10) Продолжим изучение данных и посмотрим на число поездок в выходные дни. Сгруппируйте данные по двум признакам: району города и является ли день выходным (колонки borough и hday). Сравните среднее число поездок, и назовите районы, из которых по праздникам в среднем поступает больше заказов, чем в обычные дни."
   ],
   "metadata": {
    "collapsed": false,
    "pycharm": {
     "name": "#%% md\n"
    }
   }
  },
  {
   "cell_type": "code",
   "execution_count": 53,
   "outputs": [
    {
     "name": "stdout",
     "output_type": "stream",
     "text": [
      "Является ли день выходным mean - средее количество поездок:\n",
      "                         pickups\n",
      "borough       hday             \n",
      "Bronx         N       50.771073\n",
      "              Y       48.065868\n",
      "Brooklyn      N      534.727969\n",
      "              Y      527.011976\n",
      "EWR           N        0.023467\n",
      "              Y        0.041916\n",
      "Manhattan     N     2401.302921\n",
      "              Y     2035.928144\n",
      "Queens        N      308.899904\n",
      "              Y      320.730539\n",
      "Staten Island N        1.606082\n",
      "              Y        1.497006\n"
     ]
    }
   ],
   "source": [
    "# Является ли день выходным mean - средее количество поездок\n",
    "HolDay = taxi.groupby(['borough', 'hday'])\\\n",
    "            .agg({'pickups': 'mean'})\n",
    "print('Является ли день выходным mean - средее количество поездок:\\n',HolDay)"
   ],
   "metadata": {
    "collapsed": false,
    "pycharm": {
     "name": "#%%\n"
    }
   }
  },
  {
   "cell_type": "markdown",
   "source": [
    "11) Для каждого района посчитайте число поездок по месяцам. Отсортируйте полученные значения по убыванию и сохраните результирующий датафрейм в pickups_by_mon_bor. Обратите внимание, что итоговый датасет должен состоять из 3-х колонок – pickup_month, borough, pickups."
   ],
   "metadata": {
    "collapsed": false,
    "pycharm": {
     "name": "#%% md\n"
    }
   }
  },
  {
   "cell_type": "code",
   "execution_count": 54,
   "outputs": [
    {
     "name": "stdout",
     "output_type": "stream",
     "text": [
      "          borough pickup_month  pickups\n",
      "21      Manhattan          Jun  1995388\n",
      "23      Manhattan          May  1888800\n",
      "19      Manhattan          Feb  1718571\n",
      "22      Manhattan          Mar  1661261\n",
      "18      Manhattan          Apr  1648278\n",
      "20      Manhattan          Jan  1455543\n",
      "9        Brooklyn          Jun   482466\n",
      "11       Brooklyn          May   476087\n",
      "6        Brooklyn          Apr   378095\n",
      "10       Brooklyn          Mar   346726\n",
      "7        Brooklyn          Feb   328650\n",
      "8        Brooklyn          Jan   309011\n",
      "27         Queens          Jun   286311\n",
      "29         Queens          May   275893\n",
      "28         Queens          Mar   219561\n",
      "24         Queens          Apr   216857\n",
      "25         Queens          Feb   185695\n",
      "26         Queens          Jan   159211\n",
      "5           Bronx          May    53037\n",
      "3           Bronx          Jun    49006\n",
      "0           Bronx          Apr    34617\n",
      "4           Bronx          Mar    32232\n",
      "1           Bronx          Feb    28694\n",
      "2           Bronx          Jan    22461\n",
      "33  Staten Island          Jun     1673\n",
      "35  Staten Island          May     1517\n",
      "30  Staten Island          Apr     1068\n",
      "34  Staten Island          Mar      975\n",
      "31  Staten Island          Feb      903\n",
      "32  Staten Island          Jan      821\n",
      "15            EWR          Jun       29\n",
      "17            EWR          May       27\n",
      "16            EWR          Mar       14\n",
      "13            EWR          Feb       14\n",
      "14            EWR          Jan       11\n",
      "12            EWR          Apr       10\n"
     ]
    }
   ],
   "source": [
    "# as_index=False - Чтобы названия колонок не улетали в индекс\n",
    "# .sort_values('pickups', ascending=False - Нисходящая группировка\n",
    "\n",
    "MonthRayon = taxi.groupby(['borough', 'pickup_month'], as_index=False)\\\n",
    "            .agg({'pickups': 'sum'})\\\n",
    "            .sort_values('pickups', ascending=False) # Сортировка по колонке pickups\n",
    "print('Для каждого района посчитайте и отсортируем число поездок по месяцам' ,MonthRayon)"
   ],
   "metadata": {
    "collapsed": false,
    "pycharm": {
     "name": "#%%\n"
    }
   }
  },
  {
   "cell_type": "markdown",
   "source": [
    "12) 💀 Сложное задание! 💀\n",
    "Теперь задача посложнее! Попрактикуемся в написании собственных функций и их применении к датафрейму. Поскольку данные о поездках в Нью-Йорке, температура представлена в градусах Фаренгейта.\n",
    "Напишите функцию temp_to_celcius, которая получает на вход колонку с температурой в °F, и возвращает значения, переведенные в градусы Цельсия.\n",
    "Формула: Celsius = ((Fahrenheit-32) *5.0)/(9.0)\n",
    "\n",
    " ​\n",
    "Пример работы:\n",
    "> > taxi['temp'][:5]\n",
    "0    30.0\n",
    "1    30.0\n",
    "3    30.0\n",
    "4    30.0\n",
    "5    30.0\n",
    "\n",
    "> taxi['temp_C'] = temp_to_celcius(taxi['temp'])\n",
    "> taxi['temp_C'][:5]\n",
    "0   -1.111111\n",
    "1   -1.111111\n",
    "3   -1.111111\n",
    "4   -1.111111\n",
    "5   -1.111111"
   ],
   "metadata": {
    "collapsed": false,
    "pycharm": {
     "name": "#%% md\n"
    }
   }
  },
  {
   "cell_type": "code",
   "execution_count": 55,
   "outputs": [
    {
     "name": "stdout",
     "output_type": "stream",
     "text": [
      "0        -1.111111\n",
      "1        -1.111111\n",
      "2        -1.111111\n",
      "3        -1.111111\n",
      "4        -1.111111\n",
      "           ...    \n",
      "29096    23.888889\n",
      "29097    23.888889\n",
      "29098    23.888889\n",
      "29099    23.888889\n",
      "29100    23.888889\n",
      "Name: temp, Length: 29101, dtype: float64\n"
     ]
    }
   ],
   "source": [
    "def tempToCelsium(temp):\n",
    "    return (temp - 32) * 5 / 9\n",
    "print(tempToCelsium(taxi.temp))"
   ],
   "metadata": {
    "collapsed": false,
    "pycharm": {
     "name": "#%%\n"
    }
   }
  },
  {
   "cell_type": "code",
   "execution_count": 51,
   "outputs": [],
   "source": [],
   "metadata": {
    "collapsed": false,
    "pycharm": {
     "name": "#%%\n"
    }
   }
  },
  {
   "cell_type": "code",
   "execution_count": null,
   "outputs": [],
   "source": [],
   "metadata": {
    "collapsed": false,
    "pycharm": {
     "name": "#%%\n"
    }
   }
  },
  {
   "cell_type": "code",
   "execution_count": 8,
   "outputs": [],
   "source": [],
   "metadata": {
    "collapsed": false,
    "pycharm": {
     "name": "#%%\n"
    }
   }
  },
  {
   "cell_type": "markdown",
   "source": [
    "\n",
    "\n",
    "\n",
    "\n",
    "\n",
    "\n",
    "\n",
    "\n",
    "\n"
   ],
   "metadata": {
    "collapsed": false,
    "pycharm": {
     "name": "#%% md\n"
    }
   }
  }
 ],
 "metadata": {
  "kernelspec": {
   "display_name": "Python 3",
   "language": "python",
   "name": "python3"
  },
  "language_info": {
   "codemirror_mode": {
    "name": "ipython",
    "version": 2
   },
   "file_extension": ".py",
   "mimetype": "text/x-python",
   "name": "python",
   "nbconvert_exporter": "python",
   "pygments_lexer": "ipython2",
   "version": "2.7.6"
  }
 },
 "nbformat": 4,
 "nbformat_minor": 0
}