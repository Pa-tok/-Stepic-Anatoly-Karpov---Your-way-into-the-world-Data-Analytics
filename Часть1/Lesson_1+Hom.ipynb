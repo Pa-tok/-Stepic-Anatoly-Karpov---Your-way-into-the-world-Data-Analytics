{
 "cells": [
  {
   "cell_type": "code",
   "execution_count": 1,
   "outputs": [],
   "source": [
    "import pandas as pd"
   ],
   "metadata": {
    "collapsed": false,
    "pycharm": {
     "name": "#%%\n"
    }
   }
  },
  {
   "cell_type": "code",
   "execution_count": 2,
   "outputs": [
    {
     "name": "stdout",
     "output_type": "stream",
     "text": [
      "[1, 2, 3, 4, 5]\n",
      "1\n"
     ]
    }
   ],
   "source": [
    "salaries = [1, 2, 3, 4, 5]\n",
    "print (salaries)\n",
    "print (salaries [0])\n",
    "\n",
    "# индексация  0  1  2  3  4\n",
    "# индексация -5 -4 -3 -2 -1"
   ],
   "metadata": {
    "collapsed": false,
    "pycharm": {
     "name": "#%%\n"
    }
   }
  },
  {
   "cell_type": "markdown",
   "source": [
    "####  Создание цикла:\n",
    "Первая строка - заголовок цикла\n",
    "for - ключевое слово которое обозначает начало цикла\n",
    "i - название 'виртуальной переменной' с которой мы работаем\n",
    "in - ключевое слово которое определяет 'переменную' с которой мы работаем"
   ],
   "metadata": {
    "collapsed": false,
    "pycharm": {
     "name": "#%% md\n"
    }
   }
  },
  {
   "cell_type": "markdown",
   "source": [
    "### Задачи"
   ],
   "metadata": {
    "collapsed": false,
    "pycharm": {
     "name": "#%% md\n"
    }
   }
  },
  {
   "cell_type": "markdown",
   "source": [
    " 1) Начнём с простого - сохраните в переменную age произвольный возраст, выраженный целым числом, а в переменную name какое-нибудь имя в виде строки\n"
   ],
   "metadata": {
    "collapsed": false,
    "pycharm": {
     "name": "#%% md\n"
    }
   }
  },
  {
   "cell_type": "code",
   "execution_count": 3,
   "outputs": [
    {
     "name": "stdout",
     "output_type": "stream",
     "text": [
      "Potok\n",
      "42\n"
     ]
    }
   ],
   "source": [
    "name = 'Potok' #присвоение\n",
    "age = 42\n",
    "print(name)\n",
    "print(age)"
   ],
   "metadata": {
    "collapsed": false,
    "pycharm": {
     "name": "#%%\n"
    }
   }
  },
  {
   "cell_type": "markdown",
   "source": [
    " 2) Создайте список user_info, содержащий 2 строки (имя и фамилия пользователя), 1 дробное число (зарплата) и 1 целое число (стаж)\n"
   ],
   "metadata": {
    "collapsed": false,
    "pycharm": {
     "name": "#%% md\n"
    }
   }
  },
  {
   "cell_type": "code",
   "execution_count": 4,
   "outputs": [
    {
     "name": "stdout",
     "output_type": "stream",
     "text": [
      "['Pavel', 'Potok', 150000.0, 1]\n"
     ]
    }
   ],
   "source": [
    "user_info = ['Pavel', 'Potok', 150000.0, 1 ]\n",
    "print(user_info)"
   ],
   "metadata": {
    "collapsed": false,
    "pycharm": {
     "name": "#%%\n"
    }
   }
  },
  {
   "cell_type": "markdown",
   "source": [
    " 3) Поместите в переменную первый (то есть нулевой) элемент из списка user_info"
   ],
   "metadata": {
    "collapsed": false,
    "pycharm": {
     "name": "#%% md\n"
    }
   }
  },
  {
   "cell_type": "code",
   "execution_count": 5,
   "outputs": [
    {
     "name": "stdout",
     "output_type": "stream",
     "text": [
      "Pavel\n"
     ]
    }
   ],
   "source": [
    "first = user_info [0]\n",
    "print(first)"
   ],
   "metadata": {
    "collapsed": false,
    "pycharm": {
     "name": "#%%\n"
    }
   }
  },
  {
   "cell_type": "markdown",
   "source": [
    " 4) Добавьте в список users элементы 'Voronov' и 42"
   ],
   "metadata": {
    "collapsed": false,
    "pycharm": {
     "name": "#%% md\n"
    }
   }
  },
  {
   "cell_type": "code",
   "execution_count": 6,
   "outputs": [
    {
     "name": "stdout",
     "output_type": "stream",
     "text": [
      "Добавьте в конец списока users элементы \"Voronov\" и 42:\n",
      " ['Pavel', 'Potok', 150000.0, 1, 'Voronov', 42]\n"
     ]
    }
   ],
   "source": [
    "user_info.append('Voronov') # Добавляем в конец данные\n",
    "user_info.append(42) # Добавляем в конец данные\n",
    "print('Добавьте в конец списока users элементы \"Voronov\" и 42:\\n', user_info)"
   ],
   "metadata": {
    "collapsed": false,
    "pycharm": {
     "name": "#%%\n"
    }
   }
  },
  {
   "cell_type": "markdown",
   "source": [
    " 5) В переменной user_ages содержится список возрастов клиентов. Напишите петлю, выводящую на печать возраста, которые больше 18\n",
    "Пример данных, которые могут быть в user_ages\n",
    "user_ages = [10, 18, 21, 35, 42, 27, 12, 16]\n",
    "Note: в этом задании нужно печатать эти числа"
   ],
   "metadata": {
    "collapsed": false,
    "pycharm": {
     "name": "#%% md\n"
    }
   }
  },
  {
   "cell_type": "code",
   "execution_count": 7,
   "outputs": [
    {
     "name": "stdout",
     "output_type": "stream",
     "text": [
      "Печатаем список в столбец:\n",
      "10\n",
      "18\n",
      "21\n",
      "35\n",
      "42\n",
      "27\n",
      "12\n",
      "16\n",
      "\n"
     ]
    }
   ],
   "source": [
    "user_ages = [10, 18, 21, 35, 42, 27, 12, 16]\n",
    "print('Печатаем список в столбец:')\n",
    "for i in user_ages:\n",
    "    print(i)\n",
    "print()"
   ],
   "metadata": {
    "collapsed": false,
    "pycharm": {
     "name": "#%%\n"
    }
   }
  },
  {
   "cell_type": "code",
   "execution_count": 8,
   "outputs": [
    {
     "name": "stdout",
     "output_type": "stream",
     "text": [
      "Напишите петлю, выводящую на печать возраст, который больше 18:\n",
      "21\n",
      "35\n",
      "42\n",
      "27\n",
      "end\n"
     ]
    }
   ],
   "source": [
    "print('Напишите петлю, выводящую на печать возраст, который больше 18:')\n",
    "for age in user_ages:\n",
    "    if age > 18: # напишите петлю, выводящую на печать возраста, которые больше 18\n",
    "        print(age)\n",
    "print('end')"
   ],
   "metadata": {
    "collapsed": false,
    "pycharm": {
     "name": "#%%\n"
    }
   }
  },
  {
   "cell_type": "markdown",
   "source": [
    " 6) Напишите программу, проверяющую стаж работы сотрудника. В переменной worker содержится список, содержащий значения как во 2-ом задании (имя, фамилия, зарплата, стаж). Поместите в переменную status такую строку\n",
    "user_name user_family is position, где user_name и user_family - имя и фамилия сотрудника, а position - одна из следующих строк\n",
    "\n",
    "* 'junior' - стаж меньше 2 лет\n",
    "* 'middle' - стаж больше либо равен 2 лет\n",
    "* 'senior' - стаж больше 5 лет\n",
    "\n",
    "Пример данных, которые могут быть в worker\n",
    "worker = ['Olya', 'Silyutina', 350000, 3]\n",
    "Hint: печатать результат не нужно, просто задайте его в переменную status"
   ],
   "metadata": {
    "collapsed": false,
    "pycharm": {
     "name": "#%% md\n"
    }
   }
  },
  {
   "cell_type": "code",
   "execution_count": 9,
   "outputs": [
    {
     "name": "stdout",
     "output_type": "stream",
     "text": [
      "Olya Silyutina is middle\n",
      "\n"
     ]
    }
   ],
   "source": [
    "worker = ['Olya', 'Silyutina', 350000.0, 3]\n",
    "status = '{} {} is {}'\n",
    "\n",
    "if worker[-1] < 2:\n",
    "    position = 'junior'\n",
    "elif 2 <= worker[-1] <=5:\n",
    "    position = 'middle'\n",
    "else:\n",
    "    position = 'senior'\n",
    "\n",
    "status = status.format (worker[0], worker[1], position)\n",
    "print(status)\n",
    "print()"
   ],
   "metadata": {
    "collapsed": false,
    "pycharm": {
     "name": "#%%\n"
    }
   }
  },
  {
   "cell_type": "code",
   "execution_count": 10,
   "outputs": [
    {
     "name": "stdout",
     "output_type": "stream",
     "text": [
      "Olya Silyutina is middle\n",
      "\n"
     ]
    }
   ],
   "source": [
    "# Улучшаем предидущий код\n",
    "worker = ['Olya', 'Silyutina', 350000.0, 3]\n",
    "status = '{} {} is {}'\n",
    "experience =  worker[-1]\n",
    "\n",
    "if experience < 2:\n",
    "    position = 'junior'\n",
    "elif 2 <= experience <=5:\n",
    "    position = 'middle'\n",
    "else:\n",
    "    position = 'senior'\n",
    "\n",
    "status = status.format (worker[0], worker[1], position)\n",
    "print(status)\n",
    "print()"
   ],
   "metadata": {
    "collapsed": false,
    "pycharm": {
     "name": "#%%\n"
    }
   }
  },
  {
   "cell_type": "markdown",
   "source": [
    "  7) В списке values содержатся числовые значения. Создайте список tens и добавьте в него все числа из values, которые делятся на 10 нацело\n",
    "Пример данных, которые могут быть в values\n",
    "values = [12, 134, 10, 47, 100, 20, 50, 160, 210"
   ],
   "metadata": {
    "collapsed": false,
    "pycharm": {
     "name": "#%% md\n"
    }
   }
  },
  {
   "cell_type": "code",
   "execution_count": 11,
   "outputs": [
    {
     "name": "stdout",
     "output_type": "stream",
     "text": [
      "[10, 100, 20, 50, 160, 210, -40]\n",
      "\n"
     ]
    }
   ],
   "source": [
    "values = [12, 134, 10, 47, 100, 20, 86, 50, 160, 210, -40, -32]\n",
    "\n",
    "tens = [] # создание списка\n",
    "for value in values:\n",
    "    if (value % 10) ==0:\n",
    "        tens.append(value)\n",
    "print(tens)\n",
    "print()"
   ],
   "metadata": {
    "collapsed": false,
    "pycharm": {
     "name": "#%%\n"
    }
   }
  },
  {
   "cell_type": "markdown",
   "source": [
    " 8) ⭐️Задание со звёздочкой!⭐️\n",
    "Реализуйте цикл, который пробегается по списку workers со значениями как в 2-ом и 6-ом заданиях, и выводит для каждого сотрудника строку (то есть печатает её для каждого элемента списка)\n",
    "user_name user_family is position\n",
    "где user_name и user_family - имя и фамилия сотрудника, а position - одна из следующих строк\n",
    "\n",
    "* 'junior' - стаж меньше 2 лет\n",
    "* 'middle' - стаж больше либо равен 2 лет\n",
    "* 'senior' - стаж больше 5 лет\n",
    "\n",
    "Пример данных, которые могут быть в workers\n",
    "workers = [['Ivan', 'Ivanov', 100000, 2], ['Petr', 'Petrov', 150000, 2], ['Sidor', 'Sidorov', 200000, 3]]\n",
    "Note: в этом задании нужно печатать эти строки"
   ],
   "metadata": {
    "collapsed": false,
    "pycharm": {
     "name": "#%% md\n"
    }
   }
  },
  {
   "cell_type": "code",
   "execution_count": 12,
   "outputs": [
    {
     "name": "stdout",
     "output_type": "stream",
     "text": [
      "Ivan Ivanov is middle зарплата 100000.0\n",
      "Petr Petrov is senior зарплата 150000.0\n",
      "Sidor Sidorov is junior зарплата 200000.0\n",
      "\n"
     ]
    }
   ],
   "source": [
    "workers = [['Ivan', 'Ivanov', 100000.0, 2], ['Petr', 'Petrov', 150000.0, 8], ['Sidor', 'Sidorov', 200000.0, 1]]\n",
    "for worker in workers:\n",
    "    status = '{} {} is {} зарплата {}'\n",
    "    experience = worker[-1]\n",
    "\n",
    "    if experience < 2:\n",
    "        position = 'junior'\n",
    "    elif 2 <= experience <= 5:\n",
    "        position = 'middle'\n",
    "    else:\n",
    "        position = 'senior'\n",
    "\n",
    "    status = status.format(worker[0], worker[1], position, worker[2])\n",
    "    print(status)\n",
    "print()"
   ],
   "metadata": {
    "collapsed": false,
    "pycharm": {
     "name": "#%%\n"
    }
   }
  },
  {
   "cell_type": "code",
   "execution_count": 12,
   "outputs": [],
   "source": [],
   "metadata": {
    "collapsed": false,
    "pycharm": {
     "name": "#%%\n"
    }
   }
  }
 ],
 "metadata": {
  "kernelspec": {
   "display_name": "Python 3",
   "language": "python",
   "name": "python3"
  },
  "language_info": {
   "codemirror_mode": {
    "name": "ipython",
    "version": 2
   },
   "file_extension": ".py",
   "mimetype": "text/x-python",
   "name": "python",
   "nbconvert_exporter": "python",
   "pygments_lexer": "ipython2",
   "version": "2.7.6"
  }
 },
 "nbformat": 4,
 "nbformat_minor": 0
}