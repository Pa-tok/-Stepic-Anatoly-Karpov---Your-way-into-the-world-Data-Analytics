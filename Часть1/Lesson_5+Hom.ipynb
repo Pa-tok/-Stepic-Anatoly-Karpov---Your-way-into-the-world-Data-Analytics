{
 "cells": [
  {
   "cell_type": "code",
   "execution_count": 37,
   "outputs": [],
   "source": [
    "import pandas as pd\n",
    "import numpy as np\n",
    "import seaborn as sns\n",
    "import matplotlib.pyplot as plt\n",
    "from pathlib import Path"
   ],
   "metadata": {
    "collapsed": false,
    "pycharm": {
     "name": "#%%\n"
    }
   }
  },
  {
   "cell_type": "code",
   "execution_count": 38,
   "outputs": [],
   "source": [
    "# Вывод данных из csv во всю ширину окна\n",
    "pd.set_option('display.max_rows', 500)\n",
    "pd.set_option('display.max_columns', 500)\n",
    "pd.set_option('display.width', 1000)"
   ],
   "metadata": {
    "collapsed": false,
    "pycharm": {
     "name": "#%%\n"
    }
   }
  },
  {
   "cell_type": "markdown",
   "source": [
    "## Убираем индекс"
   ],
   "metadata": {
    "collapsed": false,
    "pycharm": {
     "name": "#%% md\n"
    }
   }
  },
  {
   "cell_type": "code",
   "execution_count": 39,
   "outputs": [
    {
     "data": {
      "text/plain": "  ID  value\n0  A     18\n1  B      6\n2  C      6",
      "text/html": "<div>\n<style scoped>\n    .dataframe tbody tr th:only-of-type {\n        vertical-align: middle;\n    }\n\n    .dataframe tbody tr th {\n        vertical-align: top;\n    }\n\n    .dataframe thead th {\n        text-align: right;\n    }\n</style>\n<table border=\"1\" class=\"dataframe\">\n  <thead>\n    <tr style=\"text-align: right;\">\n      <th></th>\n      <th>ID</th>\n      <th>value</th>\n    </tr>\n  </thead>\n  <tbody>\n    <tr>\n      <th>0</th>\n      <td>A</td>\n      <td>18</td>\n    </tr>\n    <tr>\n      <th>1</th>\n      <td>B</td>\n      <td>6</td>\n    </tr>\n    <tr>\n      <th>2</th>\n      <td>C</td>\n      <td>6</td>\n    </tr>\n  </tbody>\n</table>\n</div>"
     },
     "execution_count": 39,
     "metadata": {},
     "output_type": "execute_result"
    }
   ],
   "source": [
    "df0 = pd.DataFrame({\"ID\": [\"A\", \"B\", \"A\", \"C\", \"A\", \"A\", \"C\", \"B\"], \"value\": [1, 2, 4, 3, 6, 7, 3, 4]})\n",
    "df_group1 = df0.groupby(\"ID\").sum().reset_index()\n",
    "df_group1\n",
    "df_group2 = df0.groupby(\"ID\", as_index=False).sum()\n",
    "df_group2"
   ],
   "metadata": {
    "collapsed": false,
    "pycharm": {
     "name": "#%%\n"
    }
   }
  },
  {
   "cell_type": "markdown",
   "source": [
    "1) Имеются следующие данные о транзакциях в период с 01.12.2010 по 12.09.2011:\n",
    "InvoiceNo – номер транзакции\n",
    "StockCode – код товара\n",
    "Description – описание товара\n",
    "Quantity – количество единиц товара, добавленных в заказ\n",
    "InvoiceDate – дата транзакции\n",
    "UnitPrice – цена за единицу товара\n",
    "CustomerID – id клиента\n",
    "Country – страна, где проживает клиент\n",
    "Импортируйте данные data.csv.zip (в папке) с кодировкой ISO-8859-1. Запишите полученный датафрейм в retail, а названия колонок сохраните в переменную retail_columns."
   ],
   "metadata": {
    "collapsed": false,
    "pycharm": {
     "name": "#%% md\n"
    }
   }
  },
  {
   "cell_type": "code",
   "execution_count": 40,
   "outputs": [
    {
     "name": "stdout",
     "output_type": "stream",
     "text": [
      "Импортируем данные data.csv.zip (в папке) с кодировкой ISO-8859-1.\n",
      "Количество строк и колонок: (541909, 8)\n",
      "\n",
      "Названия колонок сохраним в переменную retail_columns:\n",
      " Index(['InvoiceNo', 'StockCode', 'Description', 'Quantity', 'InvoiceDate', 'UnitPrice', 'CustomerID', 'Country'], dtype='object')\n",
      "\n",
      "Первые 5 строк:\n",
      "   InvoiceNo StockCode                          Description  Quantity     InvoiceDate  UnitPrice  CustomerID         Country\n",
      "0    536365    85123A   WHITE HANGING HEART T-LIGHT HOLDER         6  12/1/2010 8:26       2.55     17850.0  United Kingdom\n",
      "1    536365     71053                  WHITE METAL LANTERN         6  12/1/2010 8:26       3.39     17850.0  United Kingdom\n",
      "2    536365    84406B       CREAM CUPID HEARTS COAT HANGER         8  12/1/2010 8:26       2.75     17850.0  United Kingdom\n",
      "3    536365    84029G  KNITTED UNION FLAG HOT WATER BOTTLE         6  12/1/2010 8:26       3.39     17850.0  United Kingdom\n",
      "4    536365    84029E       RED WOOLLY HOTTIE WHITE HEART.         6  12/1/2010 8:26       3.39     17850.0  United Kingdom\n"
     ]
    }
   ],
   "source": [
    "# Импортируйте данные data.csv.zip (в папке) с кодировкой ISO-8859-1. Запишите полученный датафрейм в retail,\n",
    "# а названия колонок сохраните в переменную retail_columns.\n",
    "\n",
    "path = 'e:\\!Data-scientist\\!!LessonPre\\[Stepic] Анатолий Карпов - Твой путь в мир Data Analytics\\Data\\data5.csv.zip'\n",
    "retail = pd.read_csv(path,\n",
    "            encoding='ISO-8859-1',\n",
    "            compression='zip'\n",
    "        )\n",
    "print('Импортируем данные data.csv.zip (в папке) с кодировкой ISO-8859-1.\\nКоличество строк и колонок:', retail.shape)\n",
    "\n",
    "retail_columns = retail.columns\n",
    "print('\\nНазвания колонок сохраним в переменную retail_columns:\\n', retail_columns)\n",
    "print('\\nПервые 5 строк:\\n', retail.head())"
   ],
   "metadata": {
    "collapsed": false,
    "pycharm": {
     "name": "#%%\n"
    }
   }
  },
  {
   "cell_type": "markdown",
   "source": [
    "2) Проверьте, встречаются ли в данных повторяющиеся наблюдения, и в качестве ответа укажите их количество. Если они есть, то удалите их из retail."
   ],
   "metadata": {
    "collapsed": false,
    "pycharm": {
     "name": "#%% md\n"
    }
   }
  },
  {
   "cell_type": "code",
   "execution_count": 41,
   "outputs": [
    {
     "name": "stdout",
     "output_type": "stream",
     "text": [
      "\n",
      "Первично было: 541909\n"
     ]
    }
   ],
   "source": [
    "nrow_original = retail.shape[0]\n",
    "print('\\nПервично было:', nrow_original)"
   ],
   "metadata": {
    "collapsed": false,
    "pycharm": {
     "name": "#%%\n"
    }
   }
  },
  {
   "cell_type": "code",
   "execution_count": 42,
   "outputs": [
    {
     "name": "stdout",
     "output_type": "stream",
     "text": [
      "\n",
      "Проверяем данные на дупликаты и удаляем повторяющиеся: 536641\n"
     ]
    }
   ],
   "source": [
    "retail = retail.drop_duplicates()\n",
    "print('\\nПроверяем данные на дупликаты и удаляем повторяющиеся:', retail.shape[0])"
   ],
   "metadata": {
    "collapsed": false,
    "pycharm": {
     "name": "#%%\n"
    }
   }
  },
  {
   "cell_type": "markdown",
   "source": [
    "3) ⭐️Задание со звёздочкой!⭐️\n",
    "Данные содержат в себе записи как и об успешных транзакциях, так и об отмененных. Если пользователь отменил заказ, в начале номера транзакции (InvoiceNo) ставится C (canceled).\n",
    "Сколько всего заказов отменили пользователи?"
   ],
   "metadata": {
    "collapsed": false,
    "pycharm": {
     "name": "#%% md\n"
    }
   }
  },
  {
   "cell_type": "code",
   "execution_count": 43,
   "outputs": [
    {
     "name": "stdout",
     "output_type": "stream",
     "text": [
      "\n",
      "Всего заказов отменили 9251 пользователей\n"
     ]
    }
   ],
   "source": [
    "Invoice = retail.InvoiceNo.\\\n",
    "    str.startswith('C').sum()\n",
    "print('\\nВсего заказов отменили', Invoice, 'пользователей')"
   ],
   "metadata": {
    "collapsed": false,
    "pycharm": {
     "name": "#%%\n"
    }
   }
  },
  {
   "cell_type": "markdown",
   "source": [
    "4) Теперь отфильтруйте данные и оставьте в retail только те заказы, где Quantity > 0. В качестве ответа укажите число оставшихся строк."
   ],
   "metadata": {
    "collapsed": false,
    "pycharm": {
     "name": "#%% md\n"
    }
   }
  },
  {
   "cell_type": "code",
   "execution_count": 44,
   "outputs": [
    {
     "name": "stdout",
     "output_type": "stream",
     "text": [
      "\n",
      "Заказы, где больше 0 единиц товара: 526054\n"
     ]
    }
   ],
   "source": [
    "retail = retail.query('Quantity > 0')\n",
    "print('\\nЗаказы, где больше 0 единиц товара:', retail.shape[0])"
   ],
   "metadata": {
    "collapsed": false,
    "pycharm": {
     "name": "#%%\n"
    }
   }
  },
  {
   "cell_type": "markdown",
   "source": [
    "5) 💀 Сложное задание! 💀\n",
    "Посчитайте число заказов для каждого пользователя (CustomerID) из Германии (Germany). Оставьте только тех, кто совершил более N транзакций (InvoiceNo), где N – 80% процентиль. Запишите полученные id пользователей в germany_top (не весь датафрейм, только id). Идентификатор заказа – InvoiceNo. Для каждого заказа в данных может встречаться более 1 строки."
   ],
   "metadata": {
    "collapsed": false,
    "pycharm": {
     "name": "#%% md\n"
    }
   }
  },
  {
   "cell_type": "code",
   "execution_count": 45,
   "outputs": [
    {
     "name": "stdout",
     "output_type": "stream",
     "text": [
      "\n",
      "Число заказов  из Германии 80% процентиль: 7.0\n",
      "\n",
      "Id пользователей из Германии, процентиль заказов 80% : [12471.0, 12474.0, 12476.0, 12481.0, 12500.0, 12524.0, 12569.0, 12600.0, 12619.0, 12621.0, 12626.0, 12647.0, 12662.0, 12705.0, 12708.0, 12709.0, 12712.0, 12720.0]\n"
     ]
    }
   ],
   "source": [
    "germany_buyers = retail.query('Country == \"Germany\"') \\\n",
    "    .groupby('CustomerID', as_index=False)\\\n",
    "    .agg({'InvoiceNo': pd.Series.nunique})\n",
    "\n",
    "percentile_80 = germany_buyers.InvoiceNo.quantile(q=0.8)\n",
    "print('\\nЧисло заказов  из Германии 80% процентиль:', percentile_80)\n",
    "\n",
    "germany_top = germany_buyers\\\n",
    "    .rename(columns={'InvoiceNo': 'orders_numbers'})\\\n",
    "    .query('orders_numbers > @percentile_80')\\\n",
    "    .CustomerID\n",
    "print('\\nId пользователей из Германии, процентиль заказов 80% :', germany_top.tolist())"
   ],
   "metadata": {
    "collapsed": false,
    "pycharm": {
     "name": "#%%\n"
    }
   }
  },
  {
   "cell_type": "markdown",
   "source": [
    "6) ⭐️Задание со звёздочкой!⭐️\n",
    "Используя объект с id пользователей (germany_top), полученный на предыдущем шаге, отфильтруйте наблюдения и оставьте в данных записи только по интересующим нас юзерам. Результирующий датафрейм запишите в top_retail_germany."
   ],
   "metadata": {
    "collapsed": false,
    "pycharm": {
     "name": "#%% md\n"
    }
   }
  },
  {
   "cell_type": "code",
   "execution_count": 46,
   "outputs": [
    {
     "name": "stdout",
     "output_type": "stream",
     "text": [
      "\n",
      "Наблюдения за топ пользователями из Германии, процентиль заказов 80% :\n",
      "      InvoiceNo StockCode                          Description  Quantity      InvoiceDate  UnitPrice  CustomerID  Country\n",
      "0       536527     22809              SET OF 6 T-LIGHTS SANTA         6  12/1/2010 13:04       2.95     12662.0  Germany\n",
      "1       536527     84347  ROTATING SILVER ANGELS T-LIGHT HLDR         6  12/1/2010 13:04       2.55     12662.0  Germany\n",
      "2       536527     84945   MULTI COLOUR SILVER T-LIGHT HOLDER        12  12/1/2010 13:04       0.85     12662.0  Germany\n",
      "3       536527     22242        5 HOOK HANGER MAGIC TOADSTOOL        12  12/1/2010 13:04       1.65     12662.0  Germany\n",
      "4       536527     22244           3 HOOK HANGER MAGIC GARDEN        12  12/1/2010 13:04       1.95     12662.0  Germany\n",
      "...        ...       ...                                  ...       ...              ...        ...         ...      ...\n",
      "4170    581570     22139     RETROSPOT TEA SET CERAMIC 11 PC          3  12/9/2011 11:59       4.95     12662.0  Germany\n",
      "4171    581570     23077                  DOUGHNUT LIP GLOSS         20  12/9/2011 11:59       1.25     12662.0  Germany\n",
      "4172    581570     20750             RED RETROSPOT MINI CASES         2  12/9/2011 11:59       7.95     12662.0  Germany\n",
      "4173    581570     22505            MEMO BOARD COTTAGE DESIGN         4  12/9/2011 11:59       4.95     12662.0  Germany\n",
      "4174    581570      POST                              POSTAGE         1  12/9/2011 11:59      18.00     12662.0  Germany\n",
      "\n",
      "[4175 rows x 8 columns]\n"
     ]
    }
   ],
   "source": [
    "top_retail_germany = retail.query('CustomerID in @germany_top')\n",
    "top_retail_germany.reset_index(drop=True, inplace=True)  # Сброс индекса\n",
    "print('\\nНаблюдения за топ пользователями из Германии, процентиль заказов 80% :\\n', top_retail_germany)"
   ],
   "metadata": {
    "collapsed": false,
    "pycharm": {
     "name": "#%%\n"
    }
   }
  },
  {
   "cell_type": "markdown",
   "source": [
    "7) Сгруппируйте top_retail_germany по коду товара (StockCode). Какой из продуктов добавляли в корзину чаще всего, кроме POST?\n",
    "Note: одним заказом считается единовременная покупка любого количества товара, т.е. без учета Quantity."
   ],
   "metadata": {
    "collapsed": false,
    "pycharm": {
     "name": "#%% md\n"
    }
   }
  },
  {
   "cell_type": "code",
   "execution_count": 47,
   "outputs": [
    {
     "name": "stdout",
     "output_type": "stream",
     "text": [
      "\n",
      "Продукт добавляли в корзину чаще всего v1: POST     213\n",
      "22326     52\n",
      "22328     38\n",
      "22423     34\n",
      "20719     30\n",
      "        ... \n",
      "21564      1\n",
      "22584      1\n",
      "22561      1\n",
      "21497      1\n",
      "23562      1\n",
      "Name: StockCode, Length: 1158, dtype: int64\n",
      "\n",
      "Продукт добавляли в корзину чаще всего v2:\n",
      "            Description\n",
      "StockCode             \n",
      "22326               52\n",
      "22328               38\n",
      "22423               34\n",
      "20719               30\n",
      "22961               28\n",
      "...                ...\n",
      "22563                1\n",
      "22569                1\n",
      "22574                1\n",
      "22576                1\n",
      "22662                1\n",
      "\n",
      "[1157 rows x 1 columns]\n"
     ]
    }
   ],
   "source": [
    "top_quantity_germany = top_retail_germany \\\n",
    "    .StockCode.value_counts()\n",
    "print('\\nПродукт добавляли в корзину чаще всего v1:', top_quantity_germany)\n",
    "\n",
    "top_quantity_germany1 = top_retail_germany \\\n",
    "    .groupby('StockCode')\\\n",
    "    .agg({'Description': 'count'}) \\\n",
    "    .sort_values('Description', ascending=False)\\\n",
    "    .drop(index=['POST'])\n",
    "print('\\nПродукт добавляли в корзину чаще всего v2:\\n', top_quantity_germany1)"
   ],
   "metadata": {
    "collapsed": false,
    "pycharm": {
     "name": "#%%\n"
    }
   }
  },
  {
   "cell_type": "markdown",
   "source": [
    "8) Вернемся к анализу полного датасета retail. Создайте колонку Revenue с суммой покупки, используя колонки Quantity и UnitPrice."
   ],
   "metadata": {
    "collapsed": false,
    "pycharm": {
     "name": "#%% md\n"
    }
   }
  },
  {
   "cell_type": "code",
   "execution_count": 48,
   "outputs": [
    {
     "name": "stdout",
     "output_type": "stream",
     "text": [
      "       InvoiceNo StockCode                          Description  Quantity      InvoiceDate  UnitPrice  CustomerID         Country  Revenue\n",
      "0         536365    85123A   WHITE HANGING HEART T-LIGHT HOLDER         6   12/1/2010 8:26       2.55     17850.0  United Kingdom    15.30\n",
      "1         536365     71053                  WHITE METAL LANTERN         6   12/1/2010 8:26       3.39     17850.0  United Kingdom    20.34\n",
      "2         536365    84406B       CREAM CUPID HEARTS COAT HANGER         8   12/1/2010 8:26       2.75     17850.0  United Kingdom    22.00\n",
      "3         536365    84029G  KNITTED UNION FLAG HOT WATER BOTTLE         6   12/1/2010 8:26       3.39     17850.0  United Kingdom    20.34\n",
      "4         536365    84029E       RED WOOLLY HOTTIE WHITE HEART.         6   12/1/2010 8:26       3.39     17850.0  United Kingdom    20.34\n",
      "...          ...       ...                                  ...       ...              ...        ...         ...             ...      ...\n",
      "541904    581587     22613          PACK OF 20 SPACEBOY NAPKINS        12  12/9/2011 12:50       0.85     12680.0          France    10.20\n",
      "541905    581587     22899         CHILDREN'S APRON DOLLY GIRL          6  12/9/2011 12:50       2.10     12680.0          France    12.60\n",
      "541906    581587     23254        CHILDRENS CUTLERY DOLLY GIRL          4  12/9/2011 12:50       4.15     12680.0          France    16.60\n",
      "541907    581587     23255      CHILDRENS CUTLERY CIRCUS PARADE         4  12/9/2011 12:50       4.15     12680.0          France    16.60\n",
      "541908    581587     22138        BAKING SET 9 PIECE RETROSPOT          3  12/9/2011 12:50       4.95     12680.0          France    14.85\n",
      "\n",
      "[526054 rows x 9 columns]\n"
     ]
    }
   ],
   "source": [
    "# retail['Revenue'] = retail.UnitPrice * retail.Quantity # 1й вариант\n",
    "\n",
    "# 2й вариант\n",
    "retail = retail.assign(\n",
    "        Revenue = retail.UnitPrice * retail.Quantity\n",
    ")\n",
    "print(retail)"
   ],
   "metadata": {
    "collapsed": false,
    "pycharm": {
     "name": "#%%\n"
    }
   }
  },
  {
   "cell_type": "markdown",
   "source": [
    "9) Для каждой транзакции (InvoiceNo), посчитайте финальную сумму заказа. В качестве ответа укажите топ-5 (InvoiceNo) по сумме заказа (через запятую с пробелом и в порядке убывания TotalRevenue)\n",
    "\n",
    "Например, для следующего примера...\n",
    "\n",
    "InvoiceNo StockCode Quantity InvoiceDate          UnitPrice  CustomerID  Revenue\n",
    "536365    85123A    6        2010-12-01 08:26:00  2.55       17850.0     15.30\n",
    "536365    71053     6        2010-12-01 08:26:00  3.39       17850.0     20.34\n",
    "555555    71053     1        2010-12-02 18:00:00  3.39       17850.0     3.39\n",
    "...сумма заказа будет равна:\n",
    "\n",
    "InvoiceNo  TotalRevenue\n",
    "536365     35.64\n",
    "555555     3.39\n",
    "\n",
    "И ответом будет:\n",
    "536365, 555555"
   ],
   "metadata": {
    "collapsed": false,
    "pycharm": {
     "name": "#%% md\n"
    }
   }
  },
  {
   "cell_type": "code",
   "execution_count": 49,
   "outputs": [
    {
     "name": "stdout",
     "output_type": "stream",
     "text": [
      "Топ-5 по сумме заказа. Через запятую с пробелом и в порядке убывания: 581483, 541431, 574941, 576365, 556444\n"
     ]
    }
   ],
   "source": [
    "retail_top = retail\\\n",
    "        .groupby('InvoiceNo', as_index=False)\\\n",
    "        .agg({'Revenue': 'sum'}) \\\n",
    "        .sort_values('Revenue',  ascending=False)\n",
    "print('Топ-5 по сумме заказа. Через запятую с пробелом и в порядке убывания:', retail_top.InvoiceNo[:5].str.cat(sep=', '))"
   ],
   "metadata": {
    "collapsed": false,
    "pycharm": {
     "name": "#%%\n"
    }
   }
  }
 ],
 "metadata": {
  "kernelspec": {
   "display_name": "Python 3",
   "language": "python",
   "name": "python3"
  },
  "language_info": {
   "codemirror_mode": {
    "name": "ipython",
    "version": 2
   },
   "file_extension": ".py",
   "mimetype": "text/x-python",
   "name": "python",
   "nbconvert_exporter": "python",
   "pygments_lexer": "ipython2",
   "version": "2.7.6"
  }
 },
 "nbformat": 4,
 "nbformat_minor": 0
}